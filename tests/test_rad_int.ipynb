{
 "cells": [
  {
   "cell_type": "code",
   "execution_count": 4,
   "metadata": {
    "collapsed": false
   },
   "outputs": [
    {
     "name": "stdout",
     "output_type": "stream",
     "text": [
      "8.54943202791e-13\n",
      "8.5494318967e-13\n",
      "8.54944456875e-13\n",
      "8.54937909358e-13\n",
      "8.54917422994e-13\n"
     ]
    }
   ],
   "source": [
    "import camb\n",
    "import numpy as np\n",
    "from scipy import special\n",
    "import matplotlib.pyplot as plt\n",
    "import sys, os, time\n",
    "from szlib.szcounts import ClusterCosmology,SZ_Cluster_Model,Halo_MF,dictFromSection\n",
    "\n",
    "from orphics.tools.output import Plotter\n",
    "from ConfigParser import SafeConfigParser\n",
    "\n",
    "beam = 1.5\n",
    "noise = 1.0\n",
    "\n",
    "iniFile = \"../input/cosmology.ini\"\n",
    "Config = SafeConfigParser()\n",
    "Config.optionxform=str\n",
    "Config.read(iniFile)\n",
    "\n",
    "cosmoDict = dictFromSection(Config,'WMAP9')\n",
    "constDict = dictFromSection(Config,'constants')\n",
    "cc = ClusterCosmology(cosmoDict,constDict)\n",
    "\n",
    "SZProfExample = SZ_Cluster_Model(clusterCosmology=cc,spec_file='../input/test_scalCls_new.dat',rms_noise = noise,fwhm=beam,M=5e14,z=0.5)\n",
    "\n",
    "TCPAR = 25.\n",
    "\n",
    "def y2D_tilde_norm(ell,thtc,thta):                                                                                                                                                                                    \n",
    "        ans = ell*0.\n",
    "        y2D_use = SZProfExample.y2D_norm(thta/thtc)\n",
    "        for ii in xrange(len(ell)):\n",
    "            ans[ii] = np.sum(thta*special.jv(0,ell[ii]*thta)*y2D_use)*SZProfExample.dtht\n",
    "        return ans, y2D_use\n",
    "\n",
    "DAz = SZProfExample.cc.results.angular_diameter_distance(0.5) * 0.7\n",
    "\n",
    "thtc = SZProfExample.R500/DAz\n",
    "\n",
    "for ii in xrange(5):\n",
    "    thta = np.arange(SZProfExample.dtht,TCPAR/(ii+1)*thtc,SZProfExample.dtht)    \n",
    "\n",
    "    ytild,y2d = y2D_tilde_norm(SZProfExample.ells,thtc,thta)\n",
    "\n",
    "    var = np.sum(SZProfExample.ells*ytild**2/SZProfExample.nl)*SZProfExample.dell*SZProfExample.freq_fac\n",
    "    prof_int = 2.*np.pi*(np.sum((y2d*thta)[thta < thtc*5.])*SZProfExample.dtht)**2\n",
    "\n",
    "    print np.sqrt(prof_int/var)\n"
   ]
  },
  {
   "cell_type": "code",
   "execution_count": null,
   "metadata": {
    "collapsed": true
   },
   "outputs": [],
   "source": []
  }
 ],
 "metadata": {
  "kernelspec": {
   "display_name": "Python 2",
   "language": "python",
   "name": "python2"
  },
  "language_info": {
   "codemirror_mode": {
    "name": "ipython",
    "version": 2
   },
   "file_extension": ".py",
   "mimetype": "text/x-python",
   "name": "python",
   "nbconvert_exporter": "python",
   "pygments_lexer": "ipython2",
   "version": "2.7.12"
  }
 },
 "nbformat": 4,
 "nbformat_minor": 0
}
