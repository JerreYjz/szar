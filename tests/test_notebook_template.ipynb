{
 "cells": [
  {
   "cell_type": "code",
   "execution_count": null,
   "metadata": {
    "collapsed": true
   },
   "outputs": [],
   "source": [
    "import camb\n",
    "import numpy as np\n",
    "from scipy import special\n",
    "import matplotlib.pyplot as plt\n",
    "import sys, os, time\n",
    "from szlib.szcounts import ClusterCosmology,SZ_Cluster_Model,Halo_MF,dictFromSection\n",
    "\n",
    "from orphics.tools.output import Plotter\n",
    "from ConfigParser import SafeConfigParser\n",
    "\n",
    "beam = 1.0\n",
    "noise = 1.0\n",
    "\n",
    "iniFile = \"input/cosmology.ini\"\n",
    "Config = SafeConfigParser()\n",
    "Config.optionxform=str\n",
    "Config.read(iniFile)\n",
    "\n",
    "cosmoDict = dictFromSection(Config,'WMAP9')\n",
    "constDict = dictFromSection(Config,'constants')\n",
    "cc = ClusterCosmology(cosmoDict,constDict)"
   ]
  }
 ],
 "metadata": {
  "kernelspec": {
   "display_name": "Python 2",
   "language": "python",
   "name": "python2"
  },
  "language_info": {
   "codemirror_mode": {
    "name": "ipython",
    "version": 2
   },
   "file_extension": ".py",
   "mimetype": "text/x-python",
   "name": "python",
   "nbconvert_exporter": "python",
   "pygments_lexer": "ipython2",
   "version": "2.7.12"
  }
 },
 "nbformat": 4,
 "nbformat_minor": 0
}
