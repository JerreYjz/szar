{
 "cells": [
  {
   "cell_type": "code",
   "execution_count": 1,
   "metadata": {},
   "outputs": [
    {
     "name": "stderr",
     "output_type": "stream",
     "text": [
      "/Users/nab/Repos/orphics/orphics/tools/io.py:3: UserWarning: WARNING: This module is deprecated. Most of its contents have moved to orphics.io. If you do not find the function you require there, please raise an issue.\n",
      "  warnings.warn(\"WARNING: This module is deprecated. Most of its contents have moved to orphics.io. If you do not find the function you require there, please raise an issue.\")\n",
      "/Users/nab/Repos/orphics/orphics/tools/stats.py:3: UserWarning: WARNING: This module is deprecated. Most of its contents have moved to orphics.stats. If you do not find the function you require there, please raise an issue.\n",
      "  warnings.warn(\"WARNING: This module is deprecated. Most of its contents have moved to orphics.stats. If you do not find the function you require there, please raise an issue.\")\n",
      "/Users/nab/Repos/orphics/orphics/analysis/flatMaps.py:3: UserWarning: WARNING: This module is deprecated. Most of its contents have moved to orphics.maps. If you do not find the function you require there, please raise an issue.\n",
      "  warnings.warn(\"WARNING: This module is deprecated. Most of its contents have moved to orphics.maps. If you do not find the function you require there, please raise an issue.\")\n",
      "WARNING:root:Couldn't load enlib.lensing. Some functionality may be missing.\n"
     ]
    },
    {
     "name": "stdout",
     "output_type": "stream",
     "text": [
      "/Users/nab/Repos/SZ_filter\n",
      "size 2\n",
      "[[  1.56559927e-11   2.24951260e-12   1.23043796e-12 ...,   4.48134524e-13\n",
      "    4.43097541e-13   4.38601667e-13]\n",
      " [  1.59234009e-11   2.27645587e-12   1.24191532e-12 ...,   4.49501443e-13\n",
      "    4.44409038e-13   4.39863314e-13]\n",
      " [  1.61957527e-11   2.30382460e-12   1.25355556e-12 ...,   4.50883336e-13\n",
      "    4.45735006e-13   4.41138992e-13]\n",
      " ..., \n",
      " [  9.30895795e-10   7.26408398e-11   2.59810750e-11 ...,   1.95734572e-12\n",
      "    1.87589139e-12   1.80432610e-12]\n",
      " [  9.49950010e-10   7.39892585e-11   2.64414867e-11 ...,   1.97968987e-12\n",
      "    1.89696794e-12   1.82430327e-12]\n",
      " [  9.69410770e-10   7.53633409e-11   2.69105066e-11 ...,   2.00238418e-12\n",
      "    1.91837093e-12   1.84458595e-12]]\n",
      "((222, 130), (222, 20), (64,), (222, 20))\n",
      "[ 1.  1.  1.  1.  1.  1.  1.  1.  1.  1.  1.  1.  1.  1.  1.  1.  1.  1.\n",
      "  1.  1.  1.  1.  1.  1.  1.  1.  1.  1.  1.  1.  1.  1.  1.  1.  1.  1.\n",
      "  1.  1.  1.  1.  1.  1.  1.  1.  1.  1.  1.  1.  1.  1.  1.  1.  1.  1.\n",
      "  1.  1.  1.  1.  1.  1.  1.  1.  1.  1.  1.  1.  1.  1.  1.  1.  1.  1.\n",
      "  1.  1.  1.  1.  1.  1.  1.  1.  1.  1.  1.  1.  1.  1.  1.  1.  1.  1.\n",
      "  1.  1.  1.  1.  1.  1.  1.  1.  1.  1.  1.  1.  1.  1.  1.  1.  1.  1.\n",
      "  1.  1.  1.  1.  1.  1.  1.  1.  1.  1.  1.  1.  1.  1.  1.  1.  1.  1.\n",
      "  1.  1.  1.  1.]\n"
     ]
    },
    {
     "name": "stderr",
     "output_type": "stream",
     "text": [
      "/Users/nab/anaconda/lib/python2.7/site-packages/ipykernel/__main__.py:17: DeprecationWarning: The SafeConfigParser class has been renamed to ConfigParser in Python 3.2. This alias will be removed in future versions. Use ConfigParser directly instead.\n",
      "/Users/nab/anaconda/lib/python2.7/site-packages/ipykernel/__main__.py:19: DeprecationWarning: You passed a bytestring as `filenames`. This will not work on Python 3. Use `cp.read_file()` or switch to using Unicode strings across the board.\n"
     ]
    },
    {
     "ename": "ValueError",
     "evalue": "operands could not be broadcast together with shapes (222,130) (4440,130) ",
     "output_type": "error",
     "traceback": [
      "\u001b[0;31m---------------------------------------------------------------------------\u001b[0m",
      "\u001b[0;31mValueError\u001b[0m                                Traceback (most recent call last)",
      "\u001b[0;32m<ipython-input-1-827a8fbfe9ab>\u001b[0m in \u001b[0;36m<module>\u001b[0;34m()\u001b[0m\n\u001b[1;32m     76\u001b[0m \u001b[0mq_arr\u001b[0m \u001b[0;34m=\u001b[0m \u001b[0;34m(\u001b[0m\u001b[0mqbin_edges\u001b[0m\u001b[0;34m[\u001b[0m\u001b[0;36m1\u001b[0m\u001b[0;34m:\u001b[0m\u001b[0;34m]\u001b[0m\u001b[0;34m+\u001b[0m\u001b[0mqbin_edges\u001b[0m\u001b[0;34m[\u001b[0m\u001b[0;34m:\u001b[0m\u001b[0;34m-\u001b[0m\u001b[0;36m1\u001b[0m\u001b[0;34m]\u001b[0m\u001b[0;34m)\u001b[0m\u001b[0;34m/\u001b[0m\u001b[0;36m2.\u001b[0m\u001b[0;34m\u001b[0m\u001b[0m\n\u001b[1;32m     77\u001b[0m \u001b[0;34m\u001b[0m\u001b[0m\n\u001b[0;32m---> 78\u001b[0;31m \u001b[0mblah\u001b[0m \u001b[0;34m=\u001b[0m \u001b[0mSZProp\u001b[0m\u001b[0;34m.\u001b[0m\u001b[0mP_of_qn_corr\u001b[0m\u001b[0;34m(\u001b[0m\u001b[0mSZProp\u001b[0m\u001b[0;34m.\u001b[0m\u001b[0mlnY\u001b[0m\u001b[0;34m,\u001b[0m\u001b[0mM_arr\u001b[0m\u001b[0;34m,\u001b[0m\u001b[0mz_arr\u001b[0m\u001b[0;34m,\u001b[0m\u001b[0msigN\u001b[0m\u001b[0;34m,\u001b[0m\u001b[0mq_arr\u001b[0m\u001b[0;34m,\u001b[0m\u001b[0mMwl\u001b[0m\u001b[0;34m,\u001b[0m\u001b[0mlndM\u001b[0m\u001b[0;34m)\u001b[0m\u001b[0;34m\u001b[0m\u001b[0m\n\u001b[0m\u001b[1;32m     79\u001b[0m \u001b[0;34m\u001b[0m\u001b[0m\n\u001b[1;32m     80\u001b[0m \u001b[0;31m#dN_dmqz_corr = HMF.N_of_mqz_SZ_corr(lndM,qbin_edges,SZProp)\u001b[0m\u001b[0;34m\u001b[0m\u001b[0;34m\u001b[0m\u001b[0m\n",
      "\u001b[0;32m/Users/nab/Repos/SZ_filter/szar/szproperties.py\u001b[0m in \u001b[0;36mP_of_qn_corr\u001b[0;34m(self, lnY, MM, zz, sigma_N, qarr, Mwl, Merr)\u001b[0m\n\u001b[1;32m    306\u001b[0m     \u001b[0;32mdef\u001b[0m \u001b[0mP_of_qn_corr\u001b[0m\u001b[0;34m(\u001b[0m\u001b[0mself\u001b[0m\u001b[0;34m,\u001b[0m\u001b[0mlnY\u001b[0m\u001b[0;34m,\u001b[0m\u001b[0mMM\u001b[0m\u001b[0;34m,\u001b[0m\u001b[0mzz\u001b[0m\u001b[0;34m,\u001b[0m\u001b[0msigma_N\u001b[0m\u001b[0;34m,\u001b[0m\u001b[0mqarr\u001b[0m\u001b[0;34m,\u001b[0m\u001b[0mMwl\u001b[0m\u001b[0;34m,\u001b[0m\u001b[0mMerr\u001b[0m\u001b[0;34m)\u001b[0m\u001b[0;34m:\u001b[0m\u001b[0;34m\u001b[0m\u001b[0m\n\u001b[1;32m    307\u001b[0m         \u001b[0mlnYa\u001b[0m \u001b[0;34m=\u001b[0m \u001b[0mnp\u001b[0m\u001b[0;34m.\u001b[0m\u001b[0mouter\u001b[0m\u001b[0;34m(\u001b[0m\u001b[0mnp\u001b[0m\u001b[0;34m.\u001b[0m\u001b[0mones\u001b[0m\u001b[0;34m(\u001b[0m\u001b[0mlen\u001b[0m\u001b[0;34m(\u001b[0m\u001b[0mMM\u001b[0m\u001b[0;34m)\u001b[0m\u001b[0;34m)\u001b[0m\u001b[0;34m,\u001b[0m\u001b[0mlnY\u001b[0m\u001b[0;34m)\u001b[0m\u001b[0;34m\u001b[0m\u001b[0m\n\u001b[0;32m--> 308\u001b[0;31m         \u001b[0msig_thresh\u001b[0m \u001b[0;34m=\u001b[0m \u001b[0mself\u001b[0m\u001b[0;34m.\u001b[0m\u001b[0mq_prob_corr\u001b[0m\u001b[0;34m(\u001b[0m\u001b[0mqarr\u001b[0m\u001b[0;34m,\u001b[0m\u001b[0mlnYa\u001b[0m\u001b[0;34m,\u001b[0m\u001b[0msigma_N\u001b[0m\u001b[0;34m,\u001b[0m\u001b[0mMwl\u001b[0m\u001b[0;34m,\u001b[0m\u001b[0mMM\u001b[0m\u001b[0;34m,\u001b[0m\u001b[0mMerr\u001b[0m\u001b[0;34m)\u001b[0m\u001b[0;34m\u001b[0m\u001b[0m\n\u001b[0m\u001b[1;32m    309\u001b[0m         \u001b[0mP_Y\u001b[0m \u001b[0;34m=\u001b[0m \u001b[0mself\u001b[0m\u001b[0;34m.\u001b[0m\u001b[0mP_of_Y\u001b[0m\u001b[0;34m(\u001b[0m\u001b[0mlnYa\u001b[0m\u001b[0;34m,\u001b[0m\u001b[0mMM\u001b[0m\u001b[0;34m,\u001b[0m \u001b[0mzz\u001b[0m\u001b[0;34m)\u001b[0m\u001b[0;34m\u001b[0m\u001b[0m\n\u001b[1;32m    310\u001b[0m         \u001b[0mans\u001b[0m \u001b[0;34m=\u001b[0m \u001b[0msig_thresh\u001b[0m\u001b[0;34m*\u001b[0m\u001b[0;36m0.0\u001b[0m\u001b[0;34m\u001b[0m\u001b[0m\n",
      "\u001b[0;32m/Users/nab/Repos/SZ_filter/szar/szproperties.py\u001b[0m in \u001b[0;36mq_prob_corr\u001b[0;34m(self, q_arr, lnY, sigma_N, Mwl, MM, Merr)\u001b[0m\n\u001b[1;32m    330\u001b[0m         \u001b[0msigma_Na\u001b[0m \u001b[0;34m=\u001b[0m \u001b[0mnp\u001b[0m\u001b[0;34m.\u001b[0m\u001b[0mouter\u001b[0m\u001b[0;34m(\u001b[0m\u001b[0msigma_N\u001b[0m\u001b[0;34m,\u001b[0m\u001b[0mnp\u001b[0m\u001b[0;34m.\u001b[0m\u001b[0mones\u001b[0m\u001b[0;34m(\u001b[0m\u001b[0mlen\u001b[0m\u001b[0;34m(\u001b[0m\u001b[0mlnY\u001b[0m\u001b[0;34m[\u001b[0m\u001b[0;36m0\u001b[0m\u001b[0;34m,\u001b[0m\u001b[0;34m:\u001b[0m\u001b[0;34m]\u001b[0m\u001b[0;34m)\u001b[0m\u001b[0;34m)\u001b[0m\u001b[0;34m)\u001b[0m\u001b[0;34m\u001b[0m\u001b[0m\n\u001b[1;32m    331\u001b[0m \u001b[0;34m\u001b[0m\u001b[0m\n\u001b[0;32m--> 332\u001b[0;31m         \u001b[0mdiff_Y\u001b[0m \u001b[0;34m=\u001b[0m \u001b[0mq_arr\u001b[0m \u001b[0;34m-\u001b[0m \u001b[0mY\u001b[0m\u001b[0;34m/\u001b[0m\u001b[0msigma_Na\u001b[0m\u001b[0;34m\u001b[0m\u001b[0m\n\u001b[0m\u001b[1;32m    333\u001b[0m         \u001b[0mdiff_M\u001b[0m \u001b[0;34m=\u001b[0m \u001b[0mdiff_Y\u001b[0m\u001b[0;34m*\u001b[0m\u001b[0;36m0.0\u001b[0m \u001b[0;34m+\u001b[0m \u001b[0mMwl\u001b[0m\u001b[0;34m*\u001b[0m\u001b[0mself\u001b[0m\u001b[0;34m.\u001b[0m\u001b[0mscaling\u001b[0m\u001b[0;34m[\u001b[0m\u001b[0;34m'b_wl'\u001b[0m\u001b[0;34m]\u001b[0m \u001b[0;34m-\u001b[0m \u001b[0mMM\u001b[0m\u001b[0;34m\u001b[0m\u001b[0m\n\u001b[1;32m    334\u001b[0m         \u001b[0mdiff_arr\u001b[0m \u001b[0;34m=\u001b[0m \u001b[0mnp\u001b[0m\u001b[0;34m.\u001b[0m\u001b[0marray\u001b[0m\u001b[0;34m(\u001b[0m\u001b[0;34m[\u001b[0m\u001b[0mdiff_Y\u001b[0m\u001b[0;34m,\u001b[0m\u001b[0mdiff_M\u001b[0m\u001b[0;34m]\u001b[0m\u001b[0;34m)\u001b[0m\u001b[0;34m\u001b[0m\u001b[0m\n",
      "\u001b[0;31mValueError\u001b[0m: operands could not be broadcast together with shapes (222,130) (4440,130) "
     ]
    }
   ],
   "source": [
    "import numpy as np\n",
    "from szar.counts import ClusterCosmology,Halo_MF\n",
    "from szar.szproperties import SZ_Cluster_Model\n",
    "from configparser import SafeConfigParser\n",
    "from orphics.tools.io import dictFromSection,listFromConfig\n",
    "import cPickle as pickle\n",
    "\n",
    "home = '/Users/nab/Repos/SZ_filter/'\n",
    "\n",
    "!pwd\n",
    "\n",
    "iniFile = home+'input/pipeline.ini'\n",
    "expName = 'CCATP-propv2'\n",
    "gridName = 'grid-owl2'\n",
    "cal = 'owl2'\n",
    "\n",
    "Config = SafeConfigParser()\n",
    "Config.optionxform=str\n",
    "Config.read(iniFile)\n",
    "\n",
    "fparams = {}\n",
    "for (key, val) in Config.items('params'):\n",
    "    if ',' in val:\n",
    "        param, step = val.split(',')\n",
    "        fparams[key] = float(param)\n",
    "    else:\n",
    "        fparams[key] = float(val)\n",
    "\n",
    "bigDataDir = Config.get('general','bigDataDirectory')\n",
    "clttfile = Config.get('general','clttfile')\n",
    "constDict = dictFromSection(Config,'constants')\n",
    "clusterDict = dictFromSection(Config,'cluster_params')\n",
    "beam = listFromConfig(Config,expName,'beams')\n",
    "noise = listFromConfig(Config,expName,'noises')\n",
    "freq = listFromConfig(Config,expName,'freqs')\n",
    "lknee = listFromConfig(Config,expName,'lknee')[0]\n",
    "alpha = listFromConfig(Config,expName,'alpha')[0]\n",
    "\n",
    "calFile = bigDataDir+\"lensgrid_grid-\"+cal+\"_\"+cal+\".pkl\"\n",
    "\n",
    "version = Config.get('general','version')\n",
    "\n",
    "mexp_edges, z_edges, lndM = pickle.load(open(calFile,\"rb\"))\n",
    "\n",
    "mgrid,zgrid,siggrid = pickle.load(open(bigDataDir+\"szgrid_\"+expName+\"_\"+gridName+ \"_v\" + version+\".pkl\",'rb'))\n",
    "\n",
    "assert np.all(mgrid==mexp_edges)\n",
    "assert np.all(z_edges==zgrid)\n",
    "\n",
    "cc = ClusterCosmology(fparams,constDict,clTTFixFile=clttfile)\n",
    "HMF = Halo_MF(cc,mgrid,zgrid)\n",
    "\n",
    "qs = listFromConfig(Config,'general','qbins')\n",
    "qspacing = Config.get('general','qbins_spacing')\n",
    "if qspacing==\"log\":\n",
    "    qbin_edges = np.logspace(np.log10(qs[0]),np.log10(qs[1]),int(qs[2])+1)\n",
    "elif qspacing==\"linear\":\n",
    "    qbin_edges = np.linspace(qs[0],qs[1],int(qs[2])+1)\n",
    "else:\n",
    "    raise ValueError\n",
    "    \n",
    "SZProp = SZ_Cluster_Model(cc,clusterDict,rms_noises = noise,fwhms=beam,freqs=freq,lknee=lknee,alpha=alpha)\n",
    "\n",
    "Mwl = 10**HMF.Mexp\n",
    "z_arr = HMF.zarr\n",
    "M_arr =  np.outer(HMF.M,np.ones([len(z_arr)]))\n",
    "\n",
    "#if HMF.sigN is None: HMF.updateSigN(SZProp)\n",
    "#sigN = HMF.sigN\n",
    "#np.savetxt(home+'/tests/sigN_arr_save.txt',sigN)\n",
    "\n",
    "sigN = np.loadtxt(home+'/tests/sigN_arr_save.txt')\n",
    "\n",
    "#SZProp = SZ_Cluster_Model(cc,clusterDict,rms_noises = noise,fwhms=beam,freqs=freq,lknee=lknee,alpha=alpha)\n",
    "\n",
    "q_arr = (qbin_edges[1:]+qbin_edges[:-1])/2.\n",
    "\n",
    "blah = SZProp.P_of_qn_corr(SZProp.lnY,M_arr,z_arr,sigN,q_arr,Mwl,lndM)\n",
    "\n",
    "#dN_dmqz_corr = HMF.N_of_mqz_SZ_corr(lndM,qbin_edges,SZProp)                                                                  \n",
    "#dN_dmqz = HMF.N_of_mqz_SZ(lndM,qbin_edges,SZProp)"
   ]
  },
  {
   "cell_type": "code",
   "execution_count": null,
   "metadata": {
    "collapsed": true
   },
   "outputs": [],
   "source": []
  }
 ],
 "metadata": {
  "kernelspec": {
   "display_name": "Python 2",
   "language": "python",
   "name": "python2"
  },
  "language_info": {
   "codemirror_mode": {
    "name": "ipython",
    "version": 2
   },
   "file_extension": ".py",
   "mimetype": "text/x-python",
   "name": "python",
   "nbconvert_exporter": "python",
   "pygments_lexer": "ipython2",
   "version": "2.7.14"
  }
 },
 "nbformat": 4,
 "nbformat_minor": 1
}
