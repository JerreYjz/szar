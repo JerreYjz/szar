{
 "cells": [
  {
   "cell_type": "code",
   "execution_count": 12,
   "metadata": {},
   "outputs": [
    {
     "name": "stdout",
     "output_type": "stream",
     "text": [
      "/Users/nab/Repos/SZ_filter/tests\n",
      "/Users/nab/Repos/SZ_filter/tests\n"
     ]
    },
    {
     "name": "stderr",
     "output_type": "stream",
     "text": [
      "/Users/nab/anaconda/lib/python2.7/site-packages/ipykernel/__main__.py:21: DeprecationWarning: The SafeConfigParser class has been renamed to ConfigParser in Python 3.2. This alias will be removed in future versions. Use ConfigParser directly instead.\n",
      "/Users/nab/anaconda/lib/python2.7/site-packages/ipykernel/__main__.py:23: DeprecationWarning: You passed a bytestring as `filenames`. This will not work on Python 3. Use `cp.read_file()` or switch to using Unicode strings across the board.\n"
     ]
    },
    {
     "ename": "IOError",
     "evalue": "[Errno 2] No such file or directory: u'data/cltt_lensed_Feb18.txt'",
     "output_type": "error",
     "traceback": [
      "\u001b[0;31m---------------------------------------------------------------------------\u001b[0m",
      "\u001b[0;31mIOError\u001b[0m                                   Traceback (most recent call last)",
      "\u001b[0;32m<ipython-input-12-f241a3bdf849>\u001b[0m in \u001b[0;36m<module>\u001b[0;34m()\u001b[0m\n\u001b[1;32m     52\u001b[0m \u001b[0;32massert\u001b[0m \u001b[0mnp\u001b[0m\u001b[0;34m.\u001b[0m\u001b[0mall\u001b[0m\u001b[0;34m(\u001b[0m\u001b[0mz_edges\u001b[0m\u001b[0;34m==\u001b[0m\u001b[0mzgrid\u001b[0m\u001b[0;34m)\u001b[0m\u001b[0;34m\u001b[0m\u001b[0m\n\u001b[1;32m     53\u001b[0m \u001b[0;34m\u001b[0m\u001b[0m\n\u001b[0;32m---> 54\u001b[0;31m \u001b[0mcc\u001b[0m \u001b[0;34m=\u001b[0m \u001b[0mClusterCosmology\u001b[0m\u001b[0;34m(\u001b[0m\u001b[0mfparams\u001b[0m\u001b[0;34m,\u001b[0m\u001b[0mconstDict\u001b[0m\u001b[0;34m,\u001b[0m\u001b[0mclTTFixFile\u001b[0m\u001b[0;34m=\u001b[0m\u001b[0mclttfile\u001b[0m\u001b[0;34m)\u001b[0m\u001b[0;34m\u001b[0m\u001b[0m\n\u001b[0m\u001b[1;32m     55\u001b[0m \u001b[0mHMF\u001b[0m \u001b[0;34m=\u001b[0m \u001b[0mHalo_MF\u001b[0m\u001b[0;34m(\u001b[0m\u001b[0mcc\u001b[0m\u001b[0;34m,\u001b[0m\u001b[0mmgrid\u001b[0m\u001b[0;34m,\u001b[0m\u001b[0mzgrid\u001b[0m\u001b[0;34m)\u001b[0m\u001b[0;34m\u001b[0m\u001b[0m\n\u001b[1;32m     56\u001b[0m \u001b[0;34m\u001b[0m\u001b[0m\n",
      "\u001b[0;32m/Users/nab/Repos/SZ_filter/szar/counts.pyc\u001b[0m in \u001b[0;36m__init__\u001b[0;34m(self, paramDict, constDict, lmax, clTTFixFile, skipCls, pickling, fill_zero, dimensionless)\u001b[0m\n\u001b[1;32m    207\u001b[0m     def __init__(self,paramDict=cosmo.defaultCosmology,constDict=cosmo.defaultConstants,lmax=None,\n\u001b[1;32m    208\u001b[0m                  clTTFixFile=None,skipCls=False,pickling=False,fill_zero=True,dimensionless=True):\n\u001b[0;32m--> 209\u001b[0;31m         \u001b[0mCosmology\u001b[0m\u001b[0;34m.\u001b[0m\u001b[0m__init__\u001b[0m\u001b[0;34m(\u001b[0m\u001b[0mself\u001b[0m\u001b[0;34m,\u001b[0m\u001b[0mparamDict\u001b[0m\u001b[0;34m,\u001b[0m\u001b[0mconstDict\u001b[0m\u001b[0;34m,\u001b[0m\u001b[0mlmax\u001b[0m\u001b[0;34m,\u001b[0m\u001b[0mclTTFixFile\u001b[0m\u001b[0;34m,\u001b[0m\u001b[0mskipCls\u001b[0m\u001b[0;34m,\u001b[0m\u001b[0mpickling\u001b[0m\u001b[0;34m,\u001b[0m\u001b[0mfill_zero\u001b[0m\u001b[0;34m,\u001b[0m\u001b[0mdimensionless\u001b[0m\u001b[0;34m=\u001b[0m\u001b[0mdimensionless\u001b[0m\u001b[0;34m)\u001b[0m\u001b[0;34m\u001b[0m\u001b[0m\n\u001b[0m\u001b[1;32m    210\u001b[0m         \u001b[0mself\u001b[0m\u001b[0;34m.\u001b[0m\u001b[0mrhoc0om\u001b[0m \u001b[0;34m=\u001b[0m \u001b[0mself\u001b[0m\u001b[0;34m.\u001b[0m\u001b[0mrho_crit0H100\u001b[0m\u001b[0;34m*\u001b[0m\u001b[0mself\u001b[0m\u001b[0;34m.\u001b[0m\u001b[0mom\u001b[0m\u001b[0;34m\u001b[0m\u001b[0m\n\u001b[1;32m    211\u001b[0m \u001b[0;34m\u001b[0m\u001b[0m\n",
      "\u001b[0;32m/Users/nab/Repos/orphics/orphics/cosmology.pyc\u001b[0m in \u001b[0;36m__init__\u001b[0;34m(self, paramDict, constDict, lmax, clTTFixFile, skipCls, pickling, fill_zero, dimensionless)\u001b[0m\n\u001b[1;32m    100\u001b[0m         \u001b[0;32mif\u001b[0m \u001b[0;34m(\u001b[0m\u001b[0mclTTFixFile\u001b[0m \u001b[0;32mis\u001b[0m \u001b[0;32mnot\u001b[0m \u001b[0mNone\u001b[0m\u001b[0;34m)\u001b[0m \u001b[0;32mand\u001b[0m \u001b[0;32mnot\u001b[0m\u001b[0;34m(\u001b[0m\u001b[0mskipCls\u001b[0m\u001b[0;34m)\u001b[0m\u001b[0;34m:\u001b[0m\u001b[0;34m\u001b[0m\u001b[0m\n\u001b[1;32m    101\u001b[0m             \u001b[0;32mimport\u001b[0m \u001b[0mnumpy\u001b[0m \u001b[0;32mas\u001b[0m \u001b[0mnp\u001b[0m\u001b[0;34m\u001b[0m\u001b[0m\n\u001b[0;32m--> 102\u001b[0;31m             \u001b[0mells\u001b[0m\u001b[0;34m,\u001b[0m\u001b[0mcltts\u001b[0m \u001b[0;34m=\u001b[0m \u001b[0mnp\u001b[0m\u001b[0;34m.\u001b[0m\u001b[0mloadtxt\u001b[0m\u001b[0;34m(\u001b[0m\u001b[0mclTTFixFile\u001b[0m\u001b[0;34m,\u001b[0m\u001b[0munpack\u001b[0m\u001b[0;34m=\u001b[0m\u001b[0mTrue\u001b[0m\u001b[0;34m)\u001b[0m\u001b[0;34m\u001b[0m\u001b[0m\n\u001b[0m\u001b[1;32m    103\u001b[0m             \u001b[0;32mfrom\u001b[0m \u001b[0mscipy\u001b[0m\u001b[0;34m.\u001b[0m\u001b[0minterpolate\u001b[0m \u001b[0;32mimport\u001b[0m \u001b[0minterp1d\u001b[0m\u001b[0;34m\u001b[0m\u001b[0m\n\u001b[1;32m    104\u001b[0m             \u001b[0mself\u001b[0m\u001b[0;34m.\u001b[0m\u001b[0mclttfunc\u001b[0m \u001b[0;34m=\u001b[0m \u001b[0minterp1d\u001b[0m\u001b[0;34m(\u001b[0m\u001b[0mells\u001b[0m\u001b[0;34m,\u001b[0m\u001b[0mcltts\u001b[0m\u001b[0;34m,\u001b[0m\u001b[0mbounds_error\u001b[0m\u001b[0;34m=\u001b[0m\u001b[0mFalse\u001b[0m\u001b[0;34m,\u001b[0m\u001b[0mfill_value\u001b[0m\u001b[0;34m=\u001b[0m\u001b[0;36m0.\u001b[0m\u001b[0;34m)\u001b[0m\u001b[0;34m\u001b[0m\u001b[0m\n",
      "\u001b[0;32m/Users/nab/.local/lib/python2.7/site-packages/numpy/lib/npyio.pyc\u001b[0m in \u001b[0;36mloadtxt\u001b[0;34m(fname, dtype, comments, delimiter, converters, skiprows, usecols, unpack, ndmin)\u001b[0m\n\u001b[1;32m    856\u001b[0m                 \u001b[0mfh\u001b[0m \u001b[0;34m=\u001b[0m \u001b[0miter\u001b[0m\u001b[0;34m(\u001b[0m\u001b[0mbz2\u001b[0m\u001b[0;34m.\u001b[0m\u001b[0mBZ2File\u001b[0m\u001b[0;34m(\u001b[0m\u001b[0mfname\u001b[0m\u001b[0;34m)\u001b[0m\u001b[0;34m)\u001b[0m\u001b[0;34m\u001b[0m\u001b[0m\n\u001b[1;32m    857\u001b[0m             \u001b[0;32melif\u001b[0m \u001b[0msys\u001b[0m\u001b[0;34m.\u001b[0m\u001b[0mversion_info\u001b[0m\u001b[0;34m[\u001b[0m\u001b[0;36m0\u001b[0m\u001b[0;34m]\u001b[0m \u001b[0;34m==\u001b[0m \u001b[0;36m2\u001b[0m\u001b[0;34m:\u001b[0m\u001b[0;34m\u001b[0m\u001b[0m\n\u001b[0;32m--> 858\u001b[0;31m                 \u001b[0mfh\u001b[0m \u001b[0;34m=\u001b[0m \u001b[0miter\u001b[0m\u001b[0;34m(\u001b[0m\u001b[0mopen\u001b[0m\u001b[0;34m(\u001b[0m\u001b[0mfname\u001b[0m\u001b[0;34m,\u001b[0m \u001b[0;34m'U'\u001b[0m\u001b[0;34m)\u001b[0m\u001b[0;34m)\u001b[0m\u001b[0;34m\u001b[0m\u001b[0m\n\u001b[0m\u001b[1;32m    859\u001b[0m             \u001b[0;32melse\u001b[0m\u001b[0;34m:\u001b[0m\u001b[0;34m\u001b[0m\u001b[0m\n\u001b[1;32m    860\u001b[0m                 \u001b[0mfh\u001b[0m \u001b[0;34m=\u001b[0m \u001b[0miter\u001b[0m\u001b[0;34m(\u001b[0m\u001b[0mopen\u001b[0m\u001b[0;34m(\u001b[0m\u001b[0mfname\u001b[0m\u001b[0;34m)\u001b[0m\u001b[0;34m)\u001b[0m\u001b[0;34m\u001b[0m\u001b[0m\n",
      "\u001b[0;31mIOError\u001b[0m: [Errno 2] No such file or directory: u'data/cltt_lensed_Feb18.txt'"
     ]
    }
   ],
   "source": [
    "import numpy as np\n",
    "from szar.counts import ClusterCosmology,Halo_MF\n",
    "from szar.szproperties import SZ_Cluster_Model\n",
    "from configparser import SafeConfigParser\n",
    "from orphics.tools.io import dictFromSection,listFromConfig\n",
    "import cPickle as pickle\n",
    "\n",
    "home = '/Users/nab/Repos/SZ_filter/'\n",
    "\n",
    "iniFile = home+'input/pipeline.ini'\n",
    "expName = 'CCATP-propv2'\n",
    "gridName = 'grid-owl2'\n",
    "cal = 'owl2'\n",
    "\n",
    "Config = SafeConfigParser()\n",
    "Config.optionxform=str\n",
    "Config.read(iniFile)\n",
    "\n",
    "fparams = {}\n",
    "for (key, val) in Config.items('params'):\n",
    "    if ',' in val:\n",
    "        param, step = val.split(',')\n",
    "        fparams[key] = float(param)\n",
    "    else:\n",
    "        fparams[key] = float(val)\n",
    "\n",
    "bigDataDir = Config.get('general','bigDataDirectory')\n",
    "clttfile = Config.get('general','clttfile')\n",
    "constDict = dictFromSection(Config,'constants')\n",
    "clusterDict = dictFromSection(Config,'cluster_params')\n",
    "beam = listFromConfig(Config,expName,'beams')\n",
    "noise = listFromConfig(Config,expName,'noises')\n",
    "freq = listFromConfig(Config,expName,'freqs')\n",
    "lknee = listFromConfig(Config,expName,'lknee')[0]\n",
    "alpha = listFromConfig(Config,expName,'alpha')[0]\n",
    "\n",
    "calFile = bigDataDir+\"lensgrid_grid-\"+cal+\"_\"+cal+\".pkl\"\n",
    "\n",
    "version = Config.get('general','version')\n",
    "\n",
    "mexp_edges, z_edges, lndM = pickle.load(open(calFile,\"rb\"))\n",
    "\n",
    "mgrid,zgrid,siggrid = pickle.load(open(bigDataDir+\"szgrid_\"+expName+\"_\"+gridName+ \"_v\" + version+\".pkl\",'rb'))\n",
    "\n",
    "assert np.all(mgrid==mexp_edges)\n",
    "assert np.all(z_edges==zgrid)\n",
    "\n",
    "cc = ClusterCosmology(fparams,constDict,clTTFixFile=clttfile)\n",
    "HMF = Halo_MF(cc,mgrid,zgrid)\n",
    "\n",
    "qs = listFromConfig(Config,'general','qbins')\n",
    "qspacing = Config.get('general','qbins_spacing')\n",
    "if qspacing==\"log\":\n",
    "    qbin_edges = np.logspace(np.log10(qs[0]),np.log10(qs[1]),int(qs[2])+1)\n",
    "elif qspacing==\"linear\":\n",
    "    qbin_edges = np.linspace(qs[0],qs[1],int(qs[2])+1)\n",
    "else:\n",
    "    raise ValueError\n",
    "    \n",
    "SZProp = SZ_Cluster_Model(cc,clusterDict,rms_noises = noise,fwhms=beam,freqs=freq,lknee=lknee,alpha=alpha)\n",
    "\n",
    "Mwl = 10**HMF.Mexp\n",
    "z_arr = HMF.zarr\n",
    "M_arr =  np.outer(HMF.M,np.ones([len(z_arr)]))\n",
    "\n",
    "if HMF.sigN is None: HMF.updateSigN(SZProp)\n",
    "sigN = HMF.sigN"
   ]
  },
  {
   "cell_type": "code",
   "execution_count": null,
   "metadata": {
    "collapsed": true
   },
   "outputs": [],
   "source": [
    "q_arr = (qbin_edges[1:]+qbin_edges[:-1])/2.\n",
    "\n",
    "blah = SZProp.P_of_qn_corr(SZProp.lnY,M_arr,z_arr,sigN,q_arr,Mwl,lndM)\n",
    "\n",
    "#dN_dmqz_corr = HMF.N_of_mqz_SZ_corr(lndM,qbin_edges,SZProp)                                                                  \n",
    "#dN_dmqz = HMF.N_of_mqz_SZ(lndM,qbin_edges,SZProp)"
   ]
  }
 ],
 "metadata": {
  "kernelspec": {
   "display_name": "Python 2",
   "language": "python",
   "name": "python2"
  },
  "language_info": {
   "codemirror_mode": {
    "name": "ipython",
    "version": 2
   },
   "file_extension": ".py",
   "mimetype": "text/x-python",
   "name": "python",
   "nbconvert_exporter": "python",
   "pygments_lexer": "ipython2",
   "version": "2.7.14"
  }
 },
 "nbformat": 4,
 "nbformat_minor": 1
}
