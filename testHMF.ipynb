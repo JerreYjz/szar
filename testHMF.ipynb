{
 "cells": [
  {
   "cell_type": "code",
   "execution_count": null,
   "metadata": {},
   "outputs": [
    {
     "name": "stderr",
     "output_type": "stream",
     "text": [
      "/Users/nab/Repos/orphics/orphics/tools/io.py:3: UserWarning: WARNING: This module is deprecated. Most of its contents have moved to orphics.io. If you do not find the function you require there, please raise an issue.\n",
      "  warnings.warn(\"WARNING: This module is deprecated. Most of its contents have moved to orphics.io. If you do not find the function you require there, please raise an issue.\")\n",
      "/Users/nab/Repos/orphics/orphics/tools/stats.py:3: UserWarning: WARNING: This module is deprecated. Most of its contents have moved to orphics.stats. If you do not find the function you require there, please raise an issue.\n",
      "  warnings.warn(\"WARNING: This module is deprecated. Most of its contents have moved to orphics.stats. If you do not find the function you require there, please raise an issue.\")\n",
      "/Users/nab/Repos/orphics/orphics/analysis/flatMaps.py:3: UserWarning: WARNING: This module is deprecated. Most of its contents have moved to orphics.maps. If you do not find the function you require there, please raise an issue.\n",
      "  warnings.warn(\"WARNING: This module is deprecated. Most of its contents have moved to orphics.maps. If you do not find the function you require there, please raise an issue.\")\n",
      "WARNING:root:Couldn't load enlib.lensing. Some functionality may be missing.\n"
     ]
    },
    {
     "name": "stdout",
     "output_type": "stream",
     "text": [
      "/Users/nab/Repos/SZ_filter\r\n"
     ]
    }
   ],
   "source": [
    "import numpy as np\n",
    "from szar.counts import ClusterCosmology,Halo_MF\n",
    "from szar.szproperties import SZ_Cluster_Model\n",
    "from configparser import SafeConfigParser\n",
    "from orphics.tools.io import dictFromSection,listFromConfig\n",
    "import cPickle as pickle\n",
    "import time\n",
    "\n",
    "home = '/Users/nab/Repos/SZ_filter/'\n",
    "\n",
    "!pwd\n",
    "\n",
    "iniFile = home+'input/pipeline.ini'\n",
    "expName = 'CCATP-propv2'\n",
    "gridName = 'grid-owl2'\n",
    "cal = 'owl2'\n",
    "\n",
    "Config = SafeConfigParser()\n",
    "Config.optionxform=str\n",
    "Config.read(iniFile)\n",
    "\n",
    "fparams = {}\n",
    "for (key, val) in Config.items('params'):\n",
    "    if ',' in val:\n",
    "        param, step = val.split(',')\n",
    "        fparams[key] = float(param)\n",
    "    else:\n",
    "        fparams[key] = float(val)\n",
    "\n",
    "bigDataDir = Config.get('general','bigDataDirectory')\n",
    "clttfile = Config.get('general','clttfile')\n",
    "constDict = dictFromSection(Config,'constants')\n",
    "clusterDict = dictFromSection(Config,'cluster_params')\n",
    "beam = listFromConfig(Config,expName,'beams')\n",
    "noise = listFromConfig(Config,expName,'noises')\n",
    "freq = listFromConfig(Config,expName,'freqs')\n",
    "lknee = listFromConfig(Config,expName,'lknee')[0]\n",
    "alpha = listFromConfig(Config,expName,'alpha')[0]\n",
    "\n",
    "calFile = bigDataDir+\"lensgrid_grid-\"+cal+\"_\"+cal+\".pkl\"\n",
    "\n",
    "version = Config.get('general','version')\n",
    "\n",
    "mexp_edges, z_edges, lndM = pickle.load(open(calFile,\"rb\"))\n",
    "\n",
    "mgrid,zgrid,siggrid = pickle.load(open(bigDataDir+\"szgrid_\"+expName+\"_\"+gridName+ \"_v\" + version+\".pkl\",'rb'))\n",
    "\n",
    "assert np.all(mgrid==mexp_edges)\n",
    "assert np.all(z_edges==zgrid)\n",
    "\n",
    "#print lndM\n",
    "\n",
    "cc = ClusterCosmology(fparams,constDict,clTTFixFile=clttfile)\n",
    "HMF = Halo_MF(cc,mgrid,zgrid)\n",
    "\n",
    "qs = listFromConfig(Config,'general','qbins')\n",
    "qspacing = Config.get('general','qbins_spacing')\n",
    "if qspacing==\"log\":\n",
    "    qbin_edges = np.logspace(np.log10(qs[0]),np.log10(qs[1]),int(qs[2])+1)\n",
    "elif qspacing==\"linear\":\n",
    "    qbin_edges = np.linspace(qs[0],qs[1],int(qs[2])+1)\n",
    "else:\n",
    "    raise ValueError\n",
    "    \n",
    "SZProp = SZ_Cluster_Model(cc,clusterDict,rms_noises = noise,fwhms=beam,freqs=freq,lknee=lknee,alpha=alpha)\n",
    "\n",
    "Mwl = 10**HMF.Mexp\n",
    "z_arr = HMF.zarr\n",
    "M_arr =  np.outer(HMF.M,np.ones([len(z_arr)]))\n",
    "\n",
    "#if HMF.sigN is None: HMF.updateSigN(SZProp)\n",
    "#sigN = HMF.sigN\n",
    "#np.savetxt(home+'/tests/sigN_arr_save.txt',sigN)\n",
    "\n",
    "sigN = np.loadtxt(home+'/tests/sigN_arr_save.txt')\n",
    "\n",
    "#SZProp = SZ_Cluster_Model(cc,clusterDict,rms_noises = noise,fwhms=beam,freqs=freq,lknee=lknee,alpha=alpha)\n",
    "\n",
    "q_arr = (qbin_edges[1:]+qbin_edges[:-1])/2.\n",
    "\n",
    "i = 5\n",
    "kk = 2\n",
    "jj = 10\n",
    "\n",
    "blah_orig = SZProp.P_of_qn(SZProp.lnY,M_arr[:,i],z_arr[i],sigN[:,i],q_arr[kk])\n",
    "blah_mwl = SZProp.Mwl_prob (Mwl[jj],M_arr[:,i],lndM[:,i])\n",
    "blah = SZProp.P_of_qn_corr(SZProp.lnY,M_arr[:,i],z_arr[i],sigN[:,i],q_arr[kk],Mwl[jj],lndM[:,i])\n",
    "\n",
    "start = time.time()\n",
    "SZProp.Pfunc_qarr(sigN,HMF.M,z_arr,q_arr)\n",
    "print time.time() - start\n",
    "start = time.time()\n",
    "SZProp.Pfunc_qarr_corr(sigN,HMF.M,z_arr,q_arr,HMF.Mexp,lndM)\n",
    "print time.time() - start\n",
    "\n",
    "#print blah_orig * blah_mwl\n",
    "#print blah\n",
    "\n",
    "#dN_dmqz_corr = HMF.N_of_mqz_SZ_corr(lndM,qbin_edges,SZProp)                                                                  \n",
    "#dN_dmqz = HMF.N_of_mqz_SZ(lndM,qbin_edges,SZProp)"
   ]
  },
  {
   "cell_type": "code",
   "execution_count": null,
   "metadata": {},
   "outputs": [],
   "source": [
    "print (blah - (blah_orig * blah_mwl)) / blah"
   ]
  },
  {
   "cell_type": "code",
   "execution_count": null,
   "metadata": {
    "collapsed": true
   },
   "outputs": [],
   "source": []
  }
 ],
 "metadata": {
  "kernelspec": {
   "display_name": "Python 2",
   "language": "python",
   "name": "python2"
  },
  "language_info": {
   "codemirror_mode": {
    "name": "ipython",
    "version": 2
   },
   "file_extension": ".py",
   "mimetype": "text/x-python",
   "name": "python",
   "nbconvert_exporter": "python",
   "pygments_lexer": "ipython2",
   "version": "2.7.14"
  }
 },
 "nbformat": 4,
 "nbformat_minor": 1
}
