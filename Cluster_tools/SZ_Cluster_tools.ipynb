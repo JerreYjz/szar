{
 "cells": [
  {
   "cell_type": "code",
   "execution_count": 7,
   "metadata": {
    "collapsed": false
   },
   "outputs": [
    {
     "name": "stdout",
     "output_type": "stream",
     "text": [
      "Populating the interactive namespace from numpy and matplotlib\n"
     ]
    }
   ],
   "source": [
    "import camb\n",
    "import numpy as np\n",
    "%pylab inline\n",
    "import matplotlib.pyplot as plt\n",
    "import sys, os, platform, time\n",
    "from camb import model\n",
    "from Tinker_MF import dn_dlogM\n",
    "from Tinker_MF import tinker_params\n",
    "\n",
    "class CosmoParams:\n",
    "    def __init__(self,opt):\n",
    "        h100 = 100. \n",
    "        self.rho_crit0 = 3. / (8 * np.pi) * (h100 * 1e5)**2 / c.G_CGS * c.MPC2CM / c.MSUN_CGS\n",
    "        if (opt == 'WMAP9'):\n",
    "            self.om = 0.279\n",
    "            self.ol = 0.721\n",
    "            self.h0 = 70.0\n",
    "            self.s8 = 0.821\n",
    "        if (opt == 'Planck15'):\n",
    "            self.om = 0.315\n",
    "            self.ol = 0.685\n",
    "            self.h0 = 67.31\n",
    "            self.s8 = 0.829\n",
    "        \n",
    "class Constants:\n",
    "    def __init__(self):\n",
    "        self.ERRTOL = 1e-12\n",
    "        self.G_CGS = 6.67259e-08\n",
    "        self.MSUN_CGS = 1.98900e+33\n",
    "        self.MPC2CM = 3.085678e+24\n",
    "    \n",
    "class Halo_tools:\n",
    "    def __init__(self):\n",
    "        pass\n",
    "    \n",
    "    #NFW cumulative mass distribution\n",
    "    def m_x(self,x):\n",
    "        ans = np.log(1 + x) - x/(1+x)\n",
    "        return ans\n",
    "    #hubble function\n",
    "    def E_z(self,z):\n",
    "        ans = np.sqrt(cp.om * (1 + z)**3 + cp.ol)\n",
    "        return ans\n",
    "    #critical density as a function of z\n",
    "    def rhoc(self,z):\n",
    "        ans = cp.rho_crit0*HP.E_z(z)**2\n",
    "        return ans\n",
    "    \n",
    "    #spherical overdensity radius w.r.t. the critical density\n",
    "    def rdel_c(self,M,z,delta):\n",
    "        ans = (3 * M / (4 * np.pi * delta*HP.rhoc(z)))**(1.0/3.0)\n",
    "        return ans\n",
    "    \n",
    "    #spherical overdensity radius w.r.t. the mean matter density\n",
    "    def rdel_m(self,M,z,delta):\n",
    "        ans = (3 * M / (4 * np.pi * delta*cp.rho_crit0*cp.om*(1.+z)**3))**(1.0/3.0) \n",
    "        return ans\n",
    "\n",
    "    #Seljak 2000 with hs in units\n",
    "    def con_M_rel_seljak(self,Mvir, z):\n",
    "        ans = 5.72 / (1 + z) * (Mvir / 10**14)**(-0.2)\n",
    "        return ans\n",
    "    \n",
    "    #Duffy 2008 with hs in units\n",
    "    def con_M_rel_duffy(self,Mvir, z):\n",
    "        ans = 5.09 / (1 + z)**0.71 * (Mvir / 10**14)**(-0.081)\n",
    "        return ans\n",
    "        \n",
    "    #Duffy 2008 with hs in units MEAN DENSITY 200\n",
    "    def con_M_rel_duffy200(self,Mvir, z):\n",
    "        ans = 10.14 / (1 + z)**(1.01) * (Mvir / 2e12)**(-0.081)\n",
    "        return ans\n",
    "   \n",
    "    #Mass conversion critical to mean overdensity, needed because the Tinker Mass function uses mean matter\n",
    "    def Mass_con_del_2_del_mean200(self,Mdel,delta,z):\n",
    "        Mass = 2.*Mdel\n",
    "        rdels = HP.rdel_c(Mdel,z,delta)\n",
    "        ans = Mass*0.0\n",
    "        for i in xrange(np.size(Mdel)):\n",
    "            while np.abs(ans[i]/Mass[i] - 1) > c.ERRTOL : \n",
    "                ans[i] = Mass[i]\n",
    "                conz = HP.con_M_rel_duffy200(Mass[i],z) #DUFFY\n",
    "                rs = HP.rdel_m(Mass[i],z,200)/conz\n",
    "                xx = rdels[i] / rs\n",
    "                Mass[i] = Mdel[i] * HP.m_x(conz) / HP.m_x(xx)\n",
    "        ## Finish when they Converge\n",
    "        return ans\n",
    "    \n",
    "class Halo_tools:\n",
    "    def __init__(self):\n",
    "        pass\n",
    "    "
   ]
  },
  {
   "cell_type": "code",
   "execution_count": 8,
   "metadata": {
    "collapsed": false
   },
   "outputs": [
    {
     "name": "stdout",
     "output_type": "stream",
     "text": [
      "0.19314718056\n",
      "2.77525424593e+11\n",
      "[  1.34953227e+14   2.72381792e+14]\n"
     ]
    }
   ],
   "source": [
    "c = Constants()\n",
    "cp = CosmoParams('Planck15')\n",
    "HP = Halo_tools()\n",
    "\n",
    "print HP.m_x(1.0)\n",
    "\n",
    "h0 = 100.\n",
    "\n",
    "rho_crit0 = 3. / (8 * np.pi) * (h0 * 1e5)**2 / c.G_CGS * c.MPC2CM / c.MSUN_CGS\n",
    "print rho_crit0\n",
    "\n",
    "print HP.Mass_con_del_2_del_mean200(np.array([1e14,2e14]),200,0.1)"
   ]
  },
  {
   "cell_type": "code",
   "execution_count": null,
   "metadata": {
    "collapsed": true
   },
   "outputs": [],
   "source": []
  },
  {
   "cell_type": "code",
   "execution_count": null,
   "metadata": {
    "collapsed": true
   },
   "outputs": [],
   "source": []
  }
 ],
 "metadata": {
  "kernelspec": {
   "display_name": "Python 2",
   "language": "python",
   "name": "python2"
  },
  "language_info": {
   "codemirror_mode": {
    "name": "ipython",
    "version": 2
   },
   "file_extension": ".py",
   "mimetype": "text/x-python",
   "name": "python",
   "nbconvert_exporter": "python",
   "pygments_lexer": "ipython2",
   "version": "2.7.12"
  }
 },
 "nbformat": 4,
 "nbformat_minor": 0
}
