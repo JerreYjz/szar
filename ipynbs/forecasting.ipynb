{
 "cells": [
  {
   "cell_type": "code",
   "execution_count": 1,
   "metadata": {},
   "outputs": [
    {
     "data": {
      "text/plain": [
       "['../input/pipeline.ini']"
      ]
     },
     "execution_count": 1,
     "metadata": {},
     "output_type": "execute_result"
    }
   ],
   "source": [
    "#Python 2 compatibility stuff\n",
    "from __future__ import print_function\n",
    "from __future__ import division\n",
    "from builtins import str\n",
    "from builtins import range\n",
    "from six.moves import configparser\n",
    "import six\n",
    "if six.PY2:\n",
    "    ConfigParser = configparser.SafeConfigParser\n",
    "else:\n",
    "    ConfigParser = configparser.ConfigParser\n",
    "import numpy as np\n",
    "import matplotlib.pyplot as plt\n",
    "import seaborn as sns\n",
    "sns.set()\n",
    "from szar.derivatives import Derivs_Clustering, make_fisher\n",
    "\n",
    "EXPNAME = 'S4-1.0-CDT'\n",
    "GRIDNAME = 'grid-owl2'\n",
    "VERSION = '0.6'\n",
    "saveid = EXPNAME + \"_\" + GRIDNAME + \"_v\" + VERSION + '_'\n",
    "DIR = \"../datatest/\"\n",
    "TIMESTAMP = \"_2018-11-05-10-26-09-EST\"\n",
    "DERIVSFILE = saveid + \"fish_derivs\" + TIMESTAMP + '.npy'\n",
    "FACTORFILE = saveid + \"fish_factor\" + TIMESTAMP + '.npy'\n",
    "config = ConfigParser()\n",
    "config.optionxform=str\n",
    "INIFILE = \"../input/pipeline.ini\"\n",
    "config.read(INIFILE)"
   ]
  },
  {
   "cell_type": "code",
   "execution_count": 2,
   "metadata": {},
   "outputs": [],
   "source": [
    "ps_derivs = np.load(DIR + DERIVSFILE)\n",
    "fisher_facs = np.load(DIR + FACTORFILE)"
   ]
  },
  {
   "cell_type": "code",
   "execution_count": 3,
   "metadata": {},
   "outputs": [],
   "source": [
    "deriv = Derivs_Clustering(INIFILE, EXPNAME, GRIDNAME, VERSION)\n",
    "deriv.instantiate_params()\n",
    "params = deriv.params\n",
    "ps_params = deriv.fisher_params\n",
    "ps_param_index = {key:index for index,key in enumerate(ps_params.keys())}"
   ]
  },
  {
   "cell_type": "code",
   "execution_count": 4,
   "metadata": {},
   "outputs": [],
   "source": [
    "params_oom = np.array([0.1, 0.1, 10, 1, 1e-9, 0.01, 1, 1, 1, 1, 1, 1, 0.1, 1, 1, 1])\n",
    "fisher_mat = make_fisher(ps_derivs, fisher_facs)\n",
    "params_mat = np.outer(params_oom,params_oom)\n",
    "fisher_renorm = params_mat * fisher_mat"
   ]
  },
  {
   "cell_type": "code",
   "execution_count": 5,
   "metadata": {},
   "outputs": [],
   "source": [
    "ps_fisher = fisher_mat[:-10]\n",
    "ps_fisher = ps_fisher.T[:-10].T\n",
    "ps_covmat = np.linalg.inv(ps_fisher)\n",
    "#u,s,v = np.linalg.svd(fisher)\n",
    "#covmat = np.matmul(v.transpose(), np.matmul(np.diag(s**-1), u.transpose()))"
   ]
  },
  {
   "cell_type": "code",
   "execution_count": 6,
   "metadata": {},
   "outputs": [],
   "source": [
    "def plot_cov_ellipse(cov, xval, yval, ax=None):\n",
    "    if ax is None:\n",
    "        ax = plt.gca()\n",
    "    xx = np.array(np.arange(360) / 180. * np.pi)\n",
    "    circl = np.array([np.cos(xx),np.sin(xx)])\n",
    "    Lmat = np.linalg.cholesky(cov)\n",
    "    ansout = np.dot(1.52*Lmat,circl)\n",
    "    ax.plot(ansout[0,:]+xval, ansout[1,:]+yval)"
   ]
  },
  {
   "cell_type": "code",
   "execution_count": 7,
   "metadata": {},
   "outputs": [],
   "source": [
    "def make_ellipse(param1, param2):\n",
    "    sigma_h0omch2 = covmat[ps_param_index[param1], ps_param_index[param2]]\n",
    "    sigma_omch2h0 = covmat[ps_param_index[param2], ps_param_index[param1]]\n",
    "    sigma_h0_sqr = covmat[ps_param_index[param1], ps_param_index[param1]]\n",
    "    sigma_omch2_sqr = covmat[ps_param_index[param2], ps_param_index[param2]]\n",
    "    cov_h0_omch2 = np.array([[sigma_h0_sqr, sigma_h0omch2],[sigma_omch2h0, sigma_omch2_sqr]])\n",
    "    plot_cov_ellipse(cov_h0_omch2, ps_params[param1], ps_params[param2], ax=None)\n",
    "    plt.show()"
   ]
  },
  {
   "cell_type": "code",
   "execution_count": 8,
   "metadata": {},
   "outputs": [
    {
     "name": "stdout",
     "output_type": "stream",
     "text": [
      "  False\n"
     ]
    },
    {
     "data": {
      "text/plain": [
       "0.0027309187388426313"
      ]
     },
     "execution_count": 8,
     "metadata": {},
     "output_type": "execute_result"
    }
   ],
   "source": [
    "idtest = np.matmul(ps_fisher, ps_covmat)\n",
    "print(f\"  {np.allclose(idtest, np.identity(idtest.shape[0]),atol=1e-6)}\")\n",
    "np.abs(idtest - np.identity(idtest.shape[0])).max()"
   ]
  },
  {
   "cell_type": "code",
   "execution_count": 11,
   "metadata": {},
   "outputs": [],
   "source": [
    "marginalized_errors = np.sqrt(np.diag(ps_covmat)) #* params_oom[:-8]\n",
    "ps_fparams = dict(ps_params)\n",
    "del ps_fparams['b_wl']\n",
    "del ps_fparams['b_ym']\n",
    "del ps_fparams['alpha_ym']\n",
    "del ps_fparams['beta_ym']\n",
    "del ps_fparams['gamma_ym']\n",
    "del ps_fparams['Ysig']\n",
    "del ps_fparams['gammaYsig']\n",
    "del ps_fparams['betaYsig']\n",
    "del ps_fparams['w0']\n",
    "del ps_fparams['wa']\n",
    "marginaldict = {key:marginalized_errors[ps_param_index[key]] for key in ps_fparams.keys()}"
   ]
  },
  {
   "cell_type": "code",
   "execution_count": 12,
   "metadata": {},
   "outputs": [],
   "source": [
    "import pickle\n",
    "abundances_plus_planck = '../data/savedFisher_S4-1.0-CDT_grid-owl2_owl2_v0.7_planck_mwwcdm.pkl'\n",
    "with open(abundances_plus_planck, 'rb') as pickle_file:\n",
    "    abund_planck_params,abund_planck_fisher = pickle.load(pickle_file, encoding='latin1')\n",
    "    \n",
    "abund_planck_index = {key:index for index,key in enumerate(abund_planck_params)}"
   ]
  },
  {
   "cell_type": "code",
   "execution_count": 13,
   "metadata": {},
   "outputs": [],
   "source": [
    "abund_planck_cov = np.linalg.inv(abund_planck_fisher)"
   ]
  },
  {
   "cell_type": "code",
   "execution_count": 14,
   "metadata": {},
   "outputs": [],
   "source": [
    "marginalized_errors_abund_planck = np.sqrt(np.diag(abund_planck_cov))\n",
    "abund_planck_marginal = {key:marginalized_errors_abund_planck[abund_planck_index[key]] for key in abund_planck_params}"
   ]
  },
  {
   "cell_type": "code",
   "execution_count": 15,
   "metadata": {},
   "outputs": [],
   "source": [
    "planckfile = \"../data/Feb18_FisherMat_Planck_tau0.01_lens_fsky0.6.csv\"\n",
    "planck_fisher = np.loadtxt(planckfile, delimiter=' ')"
   ]
  },
  {
   "cell_type": "code",
   "execution_count": 16,
   "metadata": {},
   "outputs": [],
   "source": [
    "planck_cov = np.linalg.inv(planck_fisher)\n",
    "#h0, ombch2 omch2, as, ns, mnu"
   ]
  },
  {
   "cell_type": "code",
   "execution_count": 17,
   "metadata": {},
   "outputs": [
    {
     "name": "stderr",
     "output_type": "stream",
     "text": [
      "/Users/dylan/Development/orphics/orphics/stats.py:203: UserWarning: Pandas doesn't allow columns to be created via a new attribute name - see https://pandas.pydata.org/pandas-docs/stable/indexing.html#attribute-access\n",
      "  self.params = param_list\n"
     ]
    }
   ],
   "source": [
    "from orphics.stats import FisherMatrix\n",
    "planck_matfisher = FisherMatrix(planck_fisher, ['H0', 'ombh2', 'omch2', 'tau', 'As', 'ns', 'mnu'])\n",
    "planck_fisher = planck_matfisher.reordered(['omch2', 'ombh2', 'H0', 'ns', 'As', 'mnu', 'tau'])"
   ]
  },
  {
   "cell_type": "code",
   "execution_count": 20,
   "metadata": {},
   "outputs": [],
   "source": [
    "ps_newfisher = np.insert(ps_fisher, [6],  np.zeros(6).reshape(6,1), axis=1)\n",
    "ps_newfisher = np.insert(ps_newfisher, [6], np.zeros(7), axis=0)"
   ]
  },
  {
   "cell_type": "code",
   "execution_count": 21,
   "metadata": {},
   "outputs": [],
   "source": [
    "ps_planck_fisher = ps_newfisher + planck_fisher"
   ]
  },
  {
   "cell_type": "code",
   "execution_count": 22,
   "metadata": {},
   "outputs": [],
   "source": [
    "ps_planck_cov = np.linalg.inv(ps_planck_fisher)"
   ]
  },
  {
   "cell_type": "code",
   "execution_count": 24,
   "metadata": {},
   "outputs": [
    {
     "data": {
      "text/plain": [
       "array([4.30665417e-04, 9.86716586e-05, 4.33268918e-01, 2.32904432e-03,\n",
       "       3.76527604e-11, 4.99716710e-02, 9.29637486e-03])"
      ]
     },
     "execution_count": 24,
     "metadata": {},
     "output_type": "execute_result"
    }
   ],
   "source": [
    "np.sqrt(np.diag(ps_planck_cov))"
   ]
  },
  {
   "cell_type": "code",
   "execution_count": 79,
   "metadata": {},
   "outputs": [],
   "source": [
    "abund_planck_mat = FisherMatrix(abund_planck_fisher, abund_planck_params)\n",
    "newparamorder = ['omch2', 'ombh2', 'H0', 'ns', 'As', 'mnu', 'w0', 'wa', 'alpha_ym', 'b_ym', 'beta_ym', 'gamma_ym', 'Ysig', 'gammaYsig', 'betaYsig','tau']\n",
    "abund_planck_mat = abund_planck_mat.reordered(newparamorder)\n",
    "#abund_planck_mat = abund_planck_mat[:-9]\n",
    "#abund_planck_mat = abund_planck_mat.T[:-9].T\n"
   ]
  },
  {
   "cell_type": "code",
   "execution_count": 103,
   "metadata": {},
   "outputs": [],
   "source": [
    "ps_matfisher = FisherMatrix(fisher_mat, list(ps_params.keys()))\n",
    "ps_matfisher = ps_matfisher[:-1]\n",
    "ps_matfisher = ps_matfisher.T[:-1].T\n",
    "ps_newfisherbig = np.insert(ps_matfisher.values, [15],  np.zeros(15).reshape(15,1), axis=1)\n",
    "ps_newfisherbig = ps_newfisherbig = np.insert(ps_newfisherbig, [15], np.zeros(16), axis=0)"
   ]
  },
  {
   "cell_type": "code",
   "execution_count": 106,
   "metadata": {},
   "outputs": [],
   "source": [
    "ps_abund_planck_fisher = ps_newfisherbig + abund_planck_mat"
   ]
  },
  {
   "cell_type": "code",
   "execution_count": 107,
   "metadata": {},
   "outputs": [],
   "source": [
    "ps_abund_planck_cov = np.linalg.inv(ps_abund_planck_fisher)"
   ]
  },
  {
   "cell_type": "code",
   "execution_count": 112,
   "metadata": {},
   "outputs": [
    {
     "data": {
      "text/plain": [
       "array([3.91802223e-04, 1.62537844e-04, 1.57851139e-01, 2.65372174e-03,\n",
       "       9.75638220e-12, 1.19849232e-02])"
      ]
     },
     "execution_count": 112,
     "metadata": {},
     "output_type": "execute_result"
    }
   ],
   "source": [
    "np.sqrt(np.diag(ps_abund_planck_cov)[:-10])\n"
   ]
  },
  {
   "cell_type": "code",
   "execution_count": 111,
   "metadata": {
    "scrolled": true
   },
   "outputs": [
    {
     "name": "stdout",
     "output_type": "stream",
     "text": [
      "['omch2', 'ombh2', 'H0', 'ns', 'As', 'mnu', 'w0', 'wa', 'alpha_ym', 'b_ym', 'beta_ym', 'gamma_ym', 'Ysig', 'gammaYsig', 'betaYsig', 'tau']\n"
     ]
    }
   ],
   "source": [
    "print(newparamorder)"
   ]
  },
  {
   "cell_type": "code",
   "execution_count": 113,
   "metadata": {},
   "outputs": [
    {
     "data": {
      "text/plain": [
       "array([4.30665417e-04, 9.86716586e-05, 4.33268918e-01, 2.32904432e-03,\n",
       "       3.76527604e-11, 4.99716710e-02, 9.29637486e-03])"
      ]
     },
     "execution_count": 113,
     "metadata": {},
     "output_type": "execute_result"
    }
   ],
   "source": [
    "np.sqrt(np.diag(ps_planck_cov))"
   ]
  },
  {
   "cell_type": "code",
   "execution_count": null,
   "metadata": {},
   "outputs": [],
   "source": []
  }
 ],
 "metadata": {
  "kernelspec": {
   "display_name": "Python 3",
   "language": "python",
   "name": "python3"
  },
  "language_info": {
   "codemirror_mode": {
    "name": "ipython",
    "version": 3
   },
   "file_extension": ".py",
   "mimetype": "text/x-python",
   "name": "python",
   "nbconvert_exporter": "python",
   "pygments_lexer": "ipython3",
   "version": "3.7.0"
  }
 },
 "nbformat": 4,
 "nbformat_minor": 2
}
