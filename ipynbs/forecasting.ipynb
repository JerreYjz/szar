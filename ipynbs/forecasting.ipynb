{
 "cells": [
  {
   "cell_type": "code",
   "execution_count": 1,
   "metadata": {},
   "outputs": [],
   "source": [
    "#Python 2 compatibility stuff\n",
    "from __future__ import print_function\n",
    "from __future__ import division\n",
    "from builtins import str\n",
    "from builtins import range\n",
    "from six.moves import configparser\n",
    "import six\n",
    "if six.PY2:\n",
    "    ConfigParser = configparser.SafeConfigParser\n",
    "else:\n",
    "    ConfigParser = configparser.ConfigParser"
   ]
  },
  {
   "cell_type": "code",
   "execution_count": 2,
   "metadata": {},
   "outputs": [],
   "source": [
    "import numpy as np\n",
    "from szar.derivatives import Derivs_Clustering, make_fisher"
   ]
  },
  {
   "cell_type": "code",
   "execution_count": 3,
   "metadata": {},
   "outputs": [
    {
     "data": {
      "text/plain": [
       "['../input/pipeline.ini']"
      ]
     },
     "execution_count": 3,
     "metadata": {},
     "output_type": "execute_result"
    }
   ],
   "source": [
    "EXPNAME = 'S4-1.0-CDT'\n",
    "GRIDNAME = 'grid-owl2'\n",
    "VERSION = '0.6'\n",
    "saveid = EXPNAME + \"_\" + GRIDNAME + \"_v\" + VERSION + '_'\n",
    "DIR = \"../datatest/\"\n",
    "TIMESTAMP = \"_2018-11-05-10-26-09-EST\"\n",
    "DERIVSFILE = saveid + \"fish_derivs\" + TIMESTAMP + '.npy'\n",
    "FACTORFILE = saveid + \"fish_factor\" + TIMESTAMP + '.npy'\n",
    "config = ConfigParser()\n",
    "config.optionxform=str\n",
    "INIFILE = \"../input/pipeline.ini\"\n",
    "config.read(INIFILE)"
   ]
  },
  {
   "cell_type": "code",
   "execution_count": 4,
   "metadata": {},
   "outputs": [],
   "source": [
    "fisher_derivs = np.load(DIR + DERIVSFILE)\n",
    "fisher_facs = np.load(DIR + FACTORFILE)"
   ]
  },
  {
   "cell_type": "code",
   "execution_count": 5,
   "metadata": {},
   "outputs": [
    {
     "data": {
      "text/plain": [
       "{'omch2': 0.1194,\n",
       " 'ombh2': 0.022,\n",
       " 'H0': 67.0,\n",
       " 'ns': 0.96,\n",
       " 'As': 2.2e-09,\n",
       " 'mnu': 0.06,\n",
       " 'w0': -1.0,\n",
       " 'wa': 0.0,\n",
       " 'alpha_ym': 1.79,\n",
       " 'b_ym': 0.8,\n",
       " 'beta_ym': 0.0,\n",
       " 'gamma_ym': 0.0,\n",
       " 'Ysig': 0.127,\n",
       " 'gammaYsig': 0.0,\n",
       " 'betaYsig': 0.0,\n",
       " 'b_wl': 1.0}"
      ]
     },
     "execution_count": 5,
     "metadata": {},
     "output_type": "execute_result"
    }
   ],
   "source": [
    "deriv = Derivs_Clustering(INIFILE, EXPNAME, GRIDNAME, VERSION)\n",
    "deriv.instantiate_params()\n",
    "params = deriv.params\n",
    "fisher_params = deriv.fisher_params\n",
    "fisher_params"
   ]
  },
  {
   "cell_type": "code",
   "execution_count": 6,
   "metadata": {},
   "outputs": [],
   "source": [
    "params_oom = np.array([0.1, 0.1, 10, 1, 1e-9, 0.01, 1, 1, 1, 1, 1, 1, 0.1, 1, 1, 1])\n",
    "fisher_mat = make_fisher(fisher_derivs, fisher_facs)\n",
    "params_mat = np.outer(params_oom,params_oom)\n",
    "fisher_renorm = params_mat * fisher_mat"
   ]
  },
  {
   "cell_type": "code",
   "execution_count": 7,
   "metadata": {},
   "outputs": [],
   "source": [
    "fisher = fisher_renorm[:-1]\n",
    "fisher = fisher.T[:-1].T"
   ]
  },
  {
   "cell_type": "code",
   "execution_count": 8,
   "metadata": {},
   "outputs": [],
   "source": [
    "param_index = {key:index for index,key in enumerate(fisher_params.keys())}"
   ]
  },
  {
   "cell_type": "code",
   "execution_count": 9,
   "metadata": {},
   "outputs": [
    {
     "data": {
      "text/plain": [
       "{'omch2': 0,\n",
       " 'ombh2': 1,\n",
       " 'H0': 2,\n",
       " 'ns': 3,\n",
       " 'As': 4,\n",
       " 'mnu': 5,\n",
       " 'w0': 6,\n",
       " 'wa': 7,\n",
       " 'alpha_ym': 8,\n",
       " 'b_ym': 9,\n",
       " 'beta_ym': 10,\n",
       " 'gamma_ym': 11,\n",
       " 'Ysig': 12,\n",
       " 'gammaYsig': 13,\n",
       " 'betaYsig': 14,\n",
       " 'b_wl': 15}"
      ]
     },
     "execution_count": 9,
     "metadata": {},
     "output_type": "execute_result"
    }
   ],
   "source": [
    "param_index"
   ]
  },
  {
   "cell_type": "code",
   "execution_count": 16,
   "metadata": {},
   "outputs": [],
   "source": [
    "covmat = np.linalg.inv(fisher)\n",
    "#u,s,v = np.linalg.svd(fisher)\n",
    "#covmat = np.matmul(v.transpose(), np.matmul(np.diag(s**-1), u.transpose()))"
   ]
  },
  {
   "cell_type": "code",
   "execution_count": 11,
   "metadata": {},
   "outputs": [],
   "source": [
    "def plot_cov_ellipse(cov, xval, yval, ax=None):\n",
    "    if ax is None:\n",
    "        ax = plt.gca()\n",
    "    xx = np.array(np.arange(360) / 180. * np.pi)\n",
    "    circl = np.array([np.cos(xx),np.sin(xx)])\n",
    "    Lmat = np.linalg.cholesky(cov)\n",
    "    ansout = np.dot(1.52*Lmat,circl)\n",
    "    ax.plot(ansout[0,:]+xval, ansout[1,:]+yval)"
   ]
  },
  {
   "cell_type": "code",
   "execution_count": 12,
   "metadata": {},
   "outputs": [],
   "source": [
    "def make_ellipse(param1, param2):\n",
    "    sigma_h0omch2 = covmat[param_index[param1], param_index[param2]]\n",
    "    sigma_omch2h0 = covmat[param_index[param2], param_index[param1]]\n",
    "    sigma_h0_sqr = covmat[param_index[param1], param_index[param1]]\n",
    "    sigma_omch2_sqr = covmat[param_index[param2], param_index[param2]]\n",
    "    cov_h0_omch2 = np.array([[sigma_h0_sqr, sigma_h0omch2],[sigma_omch2h0, sigma_omch2_sqr]])\n",
    "    plot_cov_ellipse(cov_h0_omch2, params[param1], params[param2], ax=None)\n",
    "    plt.show()"
   ]
  },
  {
   "cell_type": "code",
   "execution_count": 13,
   "metadata": {},
   "outputs": [
    {
     "ename": "NameError",
     "evalue": "name 'plt' is not defined",
     "output_type": "error",
     "traceback": [
      "\u001b[0;31m---------------------------------------------------------------------------\u001b[0m",
      "\u001b[0;31mNameError\u001b[0m                                 Traceback (most recent call last)",
      "\u001b[0;32m<ipython-input-13-138623a4ad79>\u001b[0m in \u001b[0;36m<module>\u001b[0;34m\u001b[0m\n\u001b[0;32m----> 1\u001b[0;31m \u001b[0mmake_ellipse\u001b[0m\u001b[0;34m(\u001b[0m\u001b[0;34m'gamma_ym'\u001b[0m\u001b[0;34m,\u001b[0m \u001b[0;34m'H0'\u001b[0m\u001b[0;34m)\u001b[0m\u001b[0;34m\u001b[0m\u001b[0m\n\u001b[0m",
      "\u001b[0;32m<ipython-input-12-518d7e051310>\u001b[0m in \u001b[0;36mmake_ellipse\u001b[0;34m(param1, param2)\u001b[0m\n\u001b[1;32m      5\u001b[0m     \u001b[0msigma_omch2_sqr\u001b[0m \u001b[0;34m=\u001b[0m \u001b[0mcovmat\u001b[0m\u001b[0;34m[\u001b[0m\u001b[0mparam_index\u001b[0m\u001b[0;34m[\u001b[0m\u001b[0mparam2\u001b[0m\u001b[0;34m]\u001b[0m\u001b[0;34m,\u001b[0m \u001b[0mparam_index\u001b[0m\u001b[0;34m[\u001b[0m\u001b[0mparam2\u001b[0m\u001b[0;34m]\u001b[0m\u001b[0;34m]\u001b[0m\u001b[0;34m\u001b[0m\u001b[0m\n\u001b[1;32m      6\u001b[0m     \u001b[0mcov_h0_omch2\u001b[0m \u001b[0;34m=\u001b[0m \u001b[0mnp\u001b[0m\u001b[0;34m.\u001b[0m\u001b[0marray\u001b[0m\u001b[0;34m(\u001b[0m\u001b[0;34m[\u001b[0m\u001b[0;34m[\u001b[0m\u001b[0msigma_h0_sqr\u001b[0m\u001b[0;34m,\u001b[0m \u001b[0msigma_h0omch2\u001b[0m\u001b[0;34m]\u001b[0m\u001b[0;34m,\u001b[0m\u001b[0;34m[\u001b[0m\u001b[0msigma_omch2h0\u001b[0m\u001b[0;34m,\u001b[0m \u001b[0msigma_omch2_sqr\u001b[0m\u001b[0;34m]\u001b[0m\u001b[0;34m]\u001b[0m\u001b[0;34m)\u001b[0m\u001b[0;34m\u001b[0m\u001b[0m\n\u001b[0;32m----> 7\u001b[0;31m     \u001b[0mplot_cov_ellipse\u001b[0m\u001b[0;34m(\u001b[0m\u001b[0mcov_h0_omch2\u001b[0m\u001b[0;34m,\u001b[0m \u001b[0mparams\u001b[0m\u001b[0;34m[\u001b[0m\u001b[0mparam1\u001b[0m\u001b[0;34m]\u001b[0m\u001b[0;34m,\u001b[0m \u001b[0mparams\u001b[0m\u001b[0;34m[\u001b[0m\u001b[0mparam2\u001b[0m\u001b[0;34m]\u001b[0m\u001b[0;34m,\u001b[0m \u001b[0max\u001b[0m\u001b[0;34m=\u001b[0m\u001b[0;32mNone\u001b[0m\u001b[0;34m)\u001b[0m\u001b[0;34m\u001b[0m\u001b[0m\n\u001b[0m\u001b[1;32m      8\u001b[0m     \u001b[0mplt\u001b[0m\u001b[0;34m.\u001b[0m\u001b[0mshow\u001b[0m\u001b[0;34m(\u001b[0m\u001b[0;34m)\u001b[0m\u001b[0;34m\u001b[0m\u001b[0m\n",
      "\u001b[0;32m<ipython-input-11-f02e6f644c83>\u001b[0m in \u001b[0;36mplot_cov_ellipse\u001b[0;34m(cov, xval, yval, ax)\u001b[0m\n\u001b[1;32m      1\u001b[0m \u001b[0;32mdef\u001b[0m \u001b[0mplot_cov_ellipse\u001b[0m\u001b[0;34m(\u001b[0m\u001b[0mcov\u001b[0m\u001b[0;34m,\u001b[0m \u001b[0mxval\u001b[0m\u001b[0;34m,\u001b[0m \u001b[0myval\u001b[0m\u001b[0;34m,\u001b[0m \u001b[0max\u001b[0m\u001b[0;34m=\u001b[0m\u001b[0;32mNone\u001b[0m\u001b[0;34m)\u001b[0m\u001b[0;34m:\u001b[0m\u001b[0;34m\u001b[0m\u001b[0m\n\u001b[1;32m      2\u001b[0m     \u001b[0;32mif\u001b[0m \u001b[0max\u001b[0m \u001b[0;32mis\u001b[0m \u001b[0;32mNone\u001b[0m\u001b[0;34m:\u001b[0m\u001b[0;34m\u001b[0m\u001b[0m\n\u001b[0;32m----> 3\u001b[0;31m         \u001b[0max\u001b[0m \u001b[0;34m=\u001b[0m \u001b[0mplt\u001b[0m\u001b[0;34m.\u001b[0m\u001b[0mgca\u001b[0m\u001b[0;34m(\u001b[0m\u001b[0;34m)\u001b[0m\u001b[0;34m\u001b[0m\u001b[0m\n\u001b[0m\u001b[1;32m      4\u001b[0m     \u001b[0mxx\u001b[0m \u001b[0;34m=\u001b[0m \u001b[0mnp\u001b[0m\u001b[0;34m.\u001b[0m\u001b[0marray\u001b[0m\u001b[0;34m(\u001b[0m\u001b[0mnp\u001b[0m\u001b[0;34m.\u001b[0m\u001b[0marange\u001b[0m\u001b[0;34m(\u001b[0m\u001b[0;36m360\u001b[0m\u001b[0;34m)\u001b[0m \u001b[0;34m/\u001b[0m \u001b[0;36m180.\u001b[0m \u001b[0;34m*\u001b[0m \u001b[0mnp\u001b[0m\u001b[0;34m.\u001b[0m\u001b[0mpi\u001b[0m\u001b[0;34m)\u001b[0m\u001b[0;34m\u001b[0m\u001b[0m\n\u001b[1;32m      5\u001b[0m     \u001b[0mcircl\u001b[0m \u001b[0;34m=\u001b[0m \u001b[0mnp\u001b[0m\u001b[0;34m.\u001b[0m\u001b[0marray\u001b[0m\u001b[0;34m(\u001b[0m\u001b[0;34m[\u001b[0m\u001b[0mnp\u001b[0m\u001b[0;34m.\u001b[0m\u001b[0mcos\u001b[0m\u001b[0;34m(\u001b[0m\u001b[0mxx\u001b[0m\u001b[0;34m)\u001b[0m\u001b[0;34m,\u001b[0m\u001b[0mnp\u001b[0m\u001b[0;34m.\u001b[0m\u001b[0msin\u001b[0m\u001b[0;34m(\u001b[0m\u001b[0mxx\u001b[0m\u001b[0;34m)\u001b[0m\u001b[0;34m]\u001b[0m\u001b[0;34m)\u001b[0m\u001b[0;34m\u001b[0m\u001b[0m\n",
      "\u001b[0;31mNameError\u001b[0m: name 'plt' is not defined"
     ]
    }
   ],
   "source": [
    "make_ellipse('gamma_ym', 'H0')"
   ]
  },
  {
   "cell_type": "code",
   "execution_count": 14,
   "metadata": {},
   "outputs": [
    {
     "data": {
      "text/plain": [
       "{'omch2': 0.1194,\n",
       " 'ombh2': 0.022,\n",
       " 'H0': 67.0,\n",
       " 'ns': 0.96,\n",
       " 'As': 2.2e-09,\n",
       " 'mnu': 0.06,\n",
       " 'w0': -1.0,\n",
       " 'wa': 0.0,\n",
       " 'alpha_ym': 1.79,\n",
       " 'b_ym': 0.8,\n",
       " 'beta_ym': 0.0,\n",
       " 'gamma_ym': 0.0,\n",
       " 'Ysig': 0.127,\n",
       " 'gammaYsig': 0.0,\n",
       " 'betaYsig': 0.0,\n",
       " 'b_wl': 1.0,\n",
       " 'tau': 0.06,\n",
       " 'Y_star': 2.42e-10}"
      ]
     },
     "execution_count": 14,
     "metadata": {},
     "output_type": "execute_result"
    }
   ],
   "source": [
    "params"
   ]
  },
  {
   "cell_type": "code",
   "execution_count": 15,
   "metadata": {},
   "outputs": [
    {
     "data": {
      "text/plain": [
       "array([[ 1.00000000e+00, -1.39978289e-14, -1.20186449e-12,\n",
       "        -1.27056073e-13,  1.31894525e-10,  6.70962672e-10,\n",
       "         1.98040856e-11,  5.33275978e-11, -3.58602029e-11,\n",
       "        -1.82343570e-10,  1.48542251e-09,  2.07621955e-09,\n",
       "         4.77957553e-09, -4.81968355e-08, -3.58565055e-08],\n",
       "       [ 3.11424874e-14,  1.00000000e+00,  1.01468766e-12,\n",
       "         2.63925860e-14, -2.04074328e-11, -8.79917437e-11,\n",
       "        -3.11791893e-12, -9.69373876e-12,  1.41056952e-10,\n",
       "         3.62628088e-11, -8.74033138e-11, -3.95297731e-10,\n",
       "        -1.07677278e-09,  1.05773464e-08,  4.71489713e-09],\n",
       "       [-4.30159595e-13, -1.43605956e-13,  1.00000000e+00,\n",
       "         5.20959554e-14, -1.39759618e-12, -9.26690921e-11,\n",
       "         2.94535591e-13,  3.03865898e-12,  1.81446761e-10,\n",
       "        -3.23557194e-12, -2.41293313e-10,  8.48904987e-11,\n",
       "        -7.25196058e-11,  4.33800133e-10, -7.27871546e-09],\n",
       "       [-3.87538791e-13, -2.74590280e-13, -2.12420972e-12,\n",
       "         1.00000000e+00,  3.20218144e-11,  2.76876747e-10,\n",
       "         4.32393820e-12,  1.28181323e-11, -1.34504545e-10,\n",
       "        -6.11889517e-11,  6.44184456e-10,  5.44674396e-10,\n",
       "         1.49510131e-09, -1.33292722e-08,  1.29397927e-09],\n",
       "       [ 5.81741916e-14,  5.34698808e-14,  3.52162294e-13,\n",
       "        -2.30610106e-14,  1.00000000e+00,  1.06052550e-10,\n",
       "         1.36310565e-12,  2.39460349e-12, -9.82750092e-11,\n",
       "         1.85548051e-12,  3.07172263e-10,  5.74838865e-11,\n",
       "         4.23386345e-10, -4.46321236e-09, -7.99022172e-10],\n",
       "       [ 2.70104045e-15, -5.04218198e-16,  5.65301876e-15,\n",
       "        -5.20685331e-16,  3.48952379e-14,  1.00000000e+00,\n",
       "         9.45983962e-15,  4.58554826e-14, -2.14800463e-13,\n",
       "        -6.81920098e-13,  6.14859235e-12,  4.17424365e-12,\n",
       "         8.59957007e-12, -8.33362091e-11, -2.47239693e-11],\n",
       "       [-1.78373586e-13, -2.52729341e-14, -3.18710829e-13,\n",
       "         3.11962218e-14, -5.28766181e-12, -1.23174619e-10,\n",
       "         1.00000000e+00, -1.25998679e-12, -4.09203068e-12,\n",
       "         3.94819119e-12, -7.70962163e-11, -4.91766171e-11,\n",
       "        -1.16569634e-10,  9.77752408e-10,  5.70224589e-10],\n",
       "       [-2.36097844e-14, -1.13796532e-14, -6.87158223e-14,\n",
       "         1.01914132e-14, -2.58039587e-12, -3.76535515e-11,\n",
       "        -4.44567967e-13,  1.00000000e+00,  2.03654659e-11,\n",
       "         3.42075683e-13, -1.11795676e-11, -2.06256181e-11,\n",
       "        -8.55518327e-11,  7.89210195e-10,  5.87282215e-10],\n",
       "       [-1.29788557e-13, -2.42499506e-14, -2.34424988e-13,\n",
       "         1.39688495e-14, -1.38269329e-11, -8.81069021e-11,\n",
       "        -1.70595930e-12, -4.23548262e-12,  1.00000000e+00,\n",
       "         5.15343747e-12,  1.21919684e-10, -8.17048167e-11,\n",
       "        -4.08990460e-10,  5.02576372e-09,  5.13076387e-09],\n",
       "       [ 1.12293788e-13,  2.08399086e-13,  6.78653372e-13,\n",
       "        -1.18089934e-13,  5.31067106e-11,  5.37945511e-10,\n",
       "         7.25248262e-12,  1.80590071e-11, -5.38319249e-10,\n",
       "         1.00000000e+00,  8.84180731e-10,  6.01252600e-10,\n",
       "         3.10603577e-09, -2.10810232e-08,  6.86734527e-09],\n",
       "       [ 1.14155866e-14,  3.52741748e-15,  2.89783320e-14,\n",
       "        -2.27712480e-15,  1.91910616e-12,  9.68584192e-12,\n",
       "         2.48363243e-13,  8.34378609e-13, -1.14946493e-11,\n",
       "        -3.68403291e-12,  1.00000000e+00,  3.13262683e-11,\n",
       "         6.59437452e-11, -1.28253392e-09, -2.02141129e-10],\n",
       "       [ 1.01607703e-13,  3.56990763e-14,  5.63740295e-13,\n",
       "        -3.37913555e-14,  1.25350421e-11,  1.60927240e-10,\n",
       "         1.38911354e-12,  4.13802950e-12, -2.21374926e-11,\n",
       "        -2.94110733e-12,  7.42386339e-11,  1.00000000e+00,\n",
       "         5.04288897e-10, -4.58304890e-09, -1.37986562e-09],\n",
       "       [ 1.26688344e-15,  1.00789075e-15,  7.78145458e-15,\n",
       "        -1.37153731e-15,  1.00709485e-12,  6.57289618e-12,\n",
       "         1.54164024e-13,  2.18482332e-13, -2.11101612e-12,\n",
       "        -1.28009046e-13,  1.97102251e-12,  9.51072419e-12,\n",
       "         1.00000000e+00, -4.14979158e-10, -1.04033222e-11],\n",
       "       [ 8.67069405e-15,  3.12881547e-15,  2.59753485e-14,\n",
       "        -1.94503106e-15,  8.12409047e-13,  8.76802168e-12,\n",
       "         8.77045121e-14,  2.87002664e-13, -4.09878584e-12,\n",
       "         1.67592481e-13,  3.11079398e-12,  6.43731780e-12,\n",
       "         7.45254514e-12,  1.00000000e+00, -1.26457337e-10],\n",
       "       [-5.32907052e-15, -1.77635684e-15, -2.13162821e-14,\n",
       "         1.11022302e-15, -4.68958206e-13, -4.54747351e-12,\n",
       "        -4.26325641e-14, -9.94759830e-14, -3.68061137e-12,\n",
       "        -6.39488462e-14,  5.59197133e-12, -8.45545856e-13,\n",
       "        -1.73997867e-11,  1.98306725e-10,  1.00000000e+00]])"
      ]
     },
     "execution_count": 15,
     "metadata": {},
     "output_type": "execute_result"
    }
   ],
   "source": [
    "idtest = np.matmul(fisher,covmat)\n",
    "idtest"
   ]
  },
  {
   "cell_type": "code",
   "execution_count": null,
   "metadata": {},
   "outputs": [],
   "source": []
  },
  {
   "cell_type": "code",
   "execution_count": null,
   "metadata": {},
   "outputs": [],
   "source": []
  },
  {
   "cell_type": "code",
   "execution_count": null,
   "metadata": {},
   "outputs": [],
   "source": []
  }
 ],
 "metadata": {
  "kernelspec": {
   "display_name": "Python 3",
   "language": "python",
   "name": "python3"
  },
  "language_info": {
   "codemirror_mode": {
    "name": "ipython",
    "version": 3
   },
   "file_extension": ".py",
   "mimetype": "text/x-python",
   "name": "python",
   "nbconvert_exporter": "python",
   "pygments_lexer": "ipython3",
   "version": "3.7.0"
  }
 },
 "nbformat": 4,
 "nbformat_minor": 2
}
