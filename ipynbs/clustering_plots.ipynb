{
 "cells": [
  {
   "cell_type": "code",
   "execution_count": 1,
   "metadata": {},
   "outputs": [],
   "source": [
    "%matplotlib inline\n",
    "%config InlineBackend.figure_format = 'retina'\n",
    "import matplotlib\n",
    "matplotlib.rcParams['text.usetex'] = True\n",
    "matplotlib.rcParams['text.latex.unicode'] = True\n",
    "import matplotlib.pyplot as plt\n",
    "from matplotlib import rcParams\n",
    "rcParams.update({'figure.autolayout': True})\n",
    "import seaborn as sns\n",
    "sns.set(style='whitegrid', font_scale=1.5, rc={\"lines.linewidth\": 2,'lines.markersize': 8.0,})"
   ]
  },
  {
   "cell_type": "code",
   "execution_count": 2,
   "metadata": {},
   "outputs": [],
   "source": [
    "import pickle\n",
    "import numpy as np\n",
    "from orphics.stats import FisherMatrix\n",
    "from six.moves import configparser\n",
    "import six\n",
    "\n",
    "if six.PY2:\n",
    "  ConfigParser = configparser.SafeConfigParser\n",
    "else:\n",
    "  ConfigParser = configparser.ConfigParser"
   ]
  },
  {
   "cell_type": "code",
   "execution_count": 3,
   "metadata": {},
   "outputs": [],
   "source": [
    "fisherfile = '../datatest/fisher_dc_updated_abund-clustering_2018-11-23-16-13-15-EST.pkl'\n",
    "paramsfile = '../datatest/S4-1.0-CDT_grid-owl2_v0.6_params_2018-11-20-11-42-30-EST.npy'\n",
    "\n",
    "params = np.load(paramsfile).item()\n",
    "\n",
    "with open(fisherfile, 'rb') as pickle_file:\n",
    "    fisher = pickle.load(pickle_file)"
   ]
  },
  {
   "cell_type": "code",
   "execution_count": 4,
   "metadata": {},
   "outputs": [
    {
     "name": "stderr",
     "output_type": "stream",
     "text": [
      "/Users/dylan/Development/orphics/orphics/stats.py:203: UserWarning: Pandas doesn't allow columns to be created via a new attribute name - see https://pandas.pydata.org/pandas-docs/stable/indexing.html#attribute-access\n",
      "  self.params = param_list\n"
     ]
    }
   ],
   "source": [
    "fisher = FisherMatrix(fisher.values, fisher.columns.values)"
   ]
  },
  {
   "cell_type": "code",
   "execution_count": 5,
   "metadata": {},
   "outputs": [],
   "source": [
    "constraints = fisher.sigmas()"
   ]
  },
  {
   "cell_type": "code",
   "execution_count": 6,
   "metadata": {},
   "outputs": [],
   "source": [
    "def _get_latex_params(inifile):\n",
    "    config = ConfigParser()\n",
    "    config.optionxform=str\n",
    "    config.read(inifile)\n",
    "\n",
    "    latex_param_list = config.items('fisher-clustering', 'paramLatexList')[0][1].split(',')\n",
    "    return latex_param_list\n",
    "\n",
    "INI = '../input/pipeline.ini'\n",
    "\n",
    "latex_params = _get_latex_params(INI)\n",
    "latex_paramdict = {}\n",
    "for index,key in enumerate(params):\n",
    "    latex_paramdict[key] = latex_params[index]"
   ]
  },
  {
   "cell_type": "code",
   "execution_count": 7,
   "metadata": {},
   "outputs": [],
   "source": [
    "params_to_plot = list(constraints.keys())\n",
    "params_to_plot.remove('tau')\n",
    "constraints_to_plot = [constraints[par] for par in params_to_plot]\n",
    "latex_to_plot = ['$' + latex_paramdict[key] + '$' for key in params_to_plot]"
   ]
  },
  {
   "cell_type": "code",
   "execution_count": 8,
   "metadata": {},
   "outputs": [],
   "source": [
    "import pandas as pd\n",
    "df = pd.DataFrame({\"params\":latex_to_plot, \"sigmas\":constraints_to_plot})"
   ]
  },
  {
   "cell_type": "code",
   "execution_count": 9,
   "metadata": {},
   "outputs": [
    {
     "data": {
      "text/plain": [
       "<matplotlib.axes._subplots.AxesSubplot at 0x1139c5400>"
      ]
     },
     "execution_count": 9,
     "metadata": {},
     "output_type": "execute_result"
    },
    {
     "name": "stderr",
     "output_type": "stream",
     "text": [
      "/Users/dylan/Development/tsz_18/szar/szar-env/lib/python3.7/site-packages/matplotlib/figure.py:2299: UserWarning: This figure includes Axes that are not compatible with tight_layout, so results might be incorrect.\n",
      "  warnings.warn(\"This figure includes Axes that are not compatible \"\n"
     ]
    },
    {
     "data": {
      "image/png": "[encoded data removed]",
      "text/plain": [
       "<Figure size 432x288 with 1 Axes>"
      ]
     },
     "metadata": {
      "image/png": {
       "height": 280,
       "width": 424
      },
      "needs_background": "light"
     },
     "output_type": "display_data"
    }
   ],
   "source": [
    "sns.barplot(x=\"params\", y=\"sigmas\", data=df)"
   ]
  },
  {
   "cell_type": "code",
   "execution_count": 10,
   "metadata": {},
   "outputs": [
    {
     "data": {
      "text/plain": [
       "0                        $A_s$\n",
       "1                        $H_0$\n",
       "2     $\\sigma_{\\mathrm{log}Y}$\n",
       "3                   $\\alpha_y$\n",
       "4                          $b$\n",
       "5             $\\beta_{\\sigma}$\n",
       "6                    $\\beta_y$\n",
       "7              $\\gamma_\\sigma$\n",
       "8                   $\\gamma_Y$\n",
       "9             $\\Sigma m_{\\nu}$\n",
       "10                       $n_s$\n",
       "11               $\\Omega_bh^2$\n",
       "12               $\\Omega_ch^2$\n",
       "13                         $w$\n",
       "14                       $w_a$\n",
       "Name: params, dtype: object"
      ]
     },
     "execution_count": 10,
     "metadata": {},
     "output_type": "execute_result"
    }
   ],
   "source": [
    "df['params']"
   ]
  },
  {
   "cell_type": "code",
   "execution_count": null,
   "metadata": {},
   "outputs": [],
   "source": []
  },
  {
   "cell_type": "code",
   "execution_count": null,
   "metadata": {},
   "outputs": [],
   "source": []
  }
 ],
 "metadata": {
  "kernelspec": {
   "display_name": "Python 3",
   "language": "python",
   "name": "python3"
  },
  "language_info": {
   "codemirror_mode": {
    "name": "ipython",
    "version": 3
   },
   "file_extension": ".py",
   "mimetype": "text/x-python",
   "name": "python",
   "nbconvert_exporter": "python",
   "pygments_lexer": "ipython3",
   "version": "3.7.1"
  }
 },
 "nbformat": 4,
 "nbformat_minor": 2
}
