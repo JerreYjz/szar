{
 "cells": [
  {
   "cell_type": "code",
   "execution_count": 1,
   "metadata": {},
   "outputs": [],
   "source": [
    "%matplotlib inline\n",
    "%config InlineBackend.figure_format = 'retina'\n",
    "import matplotlib\n",
    "matplotlib.rc('font', **{'family': 'serif', 'serif': ['Computer Modern']})\n",
    "matplotlib.rcParams['text.usetex'] = True\n",
    "matplotlib.rcParams['text.latex.unicode'] = True\n",
    "matplotlib.rcParams['figure.dpi']= 150\n",
    "matplotlib.rcParams[\"svg.fonttype\"] = \"none\"\n",
    "matplotlib.rcParams['figure.figsize'] = [7, 7]\n",
    "import matplotlib.pyplot as plt\n",
    "matplotlib.rcParams.update({'figure.autolayout': True})\n",
    "import seaborn as sns"
   ]
  },
  {
   "cell_type": "code",
   "execution_count": 2,
   "metadata": {},
   "outputs": [],
   "source": [
    "sns.set(style='whitegrid', font_scale=1.4, rc={\"lines.linewidth\": 1.5,'lines.markersize': 4.0, 'axes.facecolor': 'white'}, font=\"serif\")"
   ]
  },
  {
   "cell_type": "code",
   "execution_count": 3,
   "metadata": {},
   "outputs": [],
   "source": [
    "import pickle\n",
    "import numpy as np\n",
    "from orphics.stats import FisherMatrix\n",
    "from six.moves import configparser\n",
    "import six\n",
    "\n",
    "if six.PY2:\n",
    "    ConfigParser = configparser.SafeConfigParser\n",
    "else:\n",
    "    ConfigParser = configparser.ConfigParser"
   ]
  },
  {
   "cell_type": "code",
   "execution_count": 4,
   "metadata": {},
   "outputs": [
    {
     "data": {
      "text/plain": [
       "'/Users/dylan/Development/szar/ipynbs'"
      ]
     },
     "execution_count": 4,
     "metadata": {},
     "output_type": "execute_result"
    }
   ],
   "source": [
    "pwd"
   ]
  },
  {
   "cell_type": "code",
   "execution_count": 5,
   "metadata": {},
   "outputs": [],
   "source": [
    "fisherfile_so = '../datatest/fisher_dc_SO-v3_goal_40_owl2_v0.6_2019-01-29-13-20-00-EST.pkl'\n",
    "oldfisherfile_so = '../data/savedFisher_SO-v3-goal-40_grid-owl2_owl2_v1.0_planck_mwwcdm_py3.pkl'\n",
    "paramsfile_so = '../datatest/SO-v3-goal-40_grid-owl2_v0.6_params_2019-01-29-13-20-00-EST.npy'\n",
    "fisherfile_ab_so = '../datatest/fisher_dc_SO-v3_goal_40_owl2_v0.6_2019-01-28-14-58-20-EST_abias.pkl'\n",
    "paramsfile_ab_so = '../datatest/SO-v3-goal-40_grid-owl2_v0.6_params_2019-01-28-14-58-20-EST_abias.npy'\n",
    "\n",
    "params_so = np.load(paramsfile_so).item()\n",
    "params_ab_so = np.load(paramsfile_ab_so).item()\n",
    "\n",
    "with open(fisherfile_so, 'rb') as pickle_file:\n",
    "    fisher_so = pickle.load(pickle_file)\n",
    "\n",
    "with open(fisherfile_ab_so, 'rb') as pickle_file:\n",
    "    fisher_ab_so = pickle.load(pickle_file)\n",
    "    \n",
    "with open(oldfisherfile_so, 'rb') as pickle_file:\n",
    "    oldfisher_so = pickle.load(pickle_file)"
   ]
  },
  {
   "cell_type": "code",
   "execution_count": 6,
   "metadata": {},
   "outputs": [],
   "source": [
    "fisherfile_s4 = '../datatest/fisher_dc_updated_abund-clustering_2018-11-23-16-13-15-EST.pkl'\n",
    "oldfisherfile_s4 = '../data/savedFisher_S4-1.0-CDT_grid-owl2_owl2_v0.7_planck_mwwcdm_py3.pkl'\n",
    "paramsfile_s4 = '../datatest/S4-1.0-CDT_grid-owl2_v0.6_params_2018-11-20-11-42-30-EST.npy'\n",
    "fisherfile_ab_s4 = '../datatest/fisher_dc_updated_abund-clustering_abias_2018-11-28-16-40-01-EST.pkl'\n",
    "paramsfile_ab_s4 = '../datatest/S4-1.0-CDT_grid-owl2_v0.6_params_2018-11-27-15-10-26-EST.npy'\n",
    "\n",
    "params_s4 = np.load(paramsfile_s4).item()\n",
    "params_ab_s4 = np.load(paramsfile_ab_s4).item()\n",
    "\n",
    "with open(fisherfile_s4, 'rb') as pickle_file:\n",
    "    fisher_s4 = pickle.load(pickle_file)\n",
    "\n",
    "with open(fisherfile_ab_s4, 'rb') as pickle_file:\n",
    "    fisher_ab_s4 = pickle.load(pickle_file)\n",
    "    \n",
    "with open(oldfisherfile_s4, 'rb') as pickle_file:\n",
    "    oldfisher_s4 = pickle.load(pickle_file)"
   ]
  },
  {
   "cell_type": "code",
   "execution_count": 28,
   "metadata": {},
   "outputs": [
    {
     "data": {
      "text/plain": [
       "['H0',\n",
       " 'ombh2',\n",
       " 'omch2',\n",
       " 'tau',\n",
       " 'As',\n",
       " 'ns',\n",
       " 'mnu',\n",
       " 'w0',\n",
       " 'wa',\n",
       " 'b_ym',\n",
       " 'alpha_ym',\n",
       " 'Ysig',\n",
       " 'gamma_ym',\n",
       " 'beta_ym',\n",
       " 'gammaYsig',\n",
       " 'betaYsig']"
      ]
     },
     "execution_count": 28,
     "metadata": {},
     "output_type": "execute_result"
    }
   ],
   "source": [
    "so_testfish = oldfisher_so[1]\n",
    "s4_testfish = oldfisher_s4[1]\n",
    "\n",
    "oldfisher_so[0]"
   ]
  },
  {
   "cell_type": "code",
   "execution_count": 25,
   "metadata": {},
   "outputs": [],
   "source": [
    "so_testcov = np.linalg.inv(so_testfish)\n",
    "s4_testcov = np.linalg.inv(s4_testfish)\n",
    "\n",
    "so_testsigmas = np.sqrt(np.diag(so_testcov))\n",
    "s4_testsigmas = np.sqrt(np.diag(s4_testcov))"
   ]
  },
  {
   "cell_type": "code",
   "execution_count": 26,
   "metadata": {},
   "outputs": [
    {
     "data": {
      "text/plain": [
       "array([2.3048316 , 0.23141151, 1.10167576, 4.89914637, 3.93667553,\n",
       "       0.59876932, 4.49694253, 7.99712059, 4.45464583, 1.2834948 ,\n",
       "       2.14446549, 1.64276163, 1.46182175, 1.85015322, 1.60175589,\n",
       "       1.59099996])"
      ]
     },
     "execution_count": 26,
     "metadata": {},
     "output_type": "execute_result"
    }
   ],
   "source": [
    "so_testsigmas/s4_testsigmas"
   ]
  },
  {
   "cell_type": "code",
   "execution_count": null,
   "metadata": {},
   "outputs": [],
   "source": [
    "fisher_so = FisherMatrix(fisher_so.values, fisher_so.columns.values.tolist())\n",
    "fisher_ab_so = FisherMatrix(fisher_ab_so.values, fisher_ab_so.columns.values.tolist())\n",
    "\n",
    "fisher_s4 = FisherMatrix(fisher_s4.values, fisher_s4.columns.values.tolist())\n",
    "fisher_ab_s4 = FisherMatrix(fisher_ab_s4.values, fisher_ab_s4.columns.values.tolist())"
   ]
  },
  {
   "cell_type": "code",
   "execution_count": null,
   "metadata": {},
   "outputs": [],
   "source": [
    "oldfisher_so = FisherMatrix(oldfisher_so[1], oldfisher_so[0])\n",
    "oldfisher_s4 = FisherMatrix(oldfisher_s4[1], oldfisher_s4[0])"
   ]
  },
  {
   "cell_type": "code",
   "execution_count": null,
   "metadata": {},
   "outputs": [],
   "source": [
    "constraints_so = fisher_so.sigmas()\n",
    "constraints_ab_so = fisher_ab_so.sigmas()\n",
    "oldconstraints_so = oldfisher_so.sigmas()\n",
    "\n",
    "constraints_s4 = fisher_s4.sigmas()\n",
    "constraints_ab_s4 = fisher_ab_s4.sigmas()\n",
    "oldconstraints_s4 = oldfisher_s4.sigmas()"
   ]
  },
  {
   "cell_type": "code",
   "execution_count": null,
   "metadata": {},
   "outputs": [],
   "source": [
    "def _get_latex_params(inifile, fish_sect='fisher-clustering'):\n",
    "    config = ConfigParser()\n",
    "    config.optionxform=str\n",
    "    config.read(inifile)\n",
    "\n",
    "    latex_param_list = config.items(fish_sect, 'paramLatexList')[1][1].split(',')\n",
    "    return latex_param_list\n",
    "\n",
    "INI = '../input/pipeline.ini'\n",
    "\n",
    "latex_params = _get_latex_params(INI)\n",
    "latex_paramdict = {}\n",
    "for index,key in enumerate(params_so):\n",
    "    latex_paramdict[key] = latex_params[index]"
   ]
  },
  {
   "cell_type": "code",
   "execution_count": null,
   "metadata": {},
   "outputs": [],
   "source": [
    "params_to_plot = ['H0', 'mnu', 'omch2', 'w0', 'wa', 'ns']\n",
    "constraints_to_plot_so = [constraints_so[par] for par in params_to_plot]\n",
    "constraints_to_plot_s4 = [constraints_s4[par] for par in params_to_plot]\n",
    "latex_to_plot = ['$' + latex_paramdict[key] + '$' for key in params_to_plot]"
   ]
  },
  {
   "cell_type": "code",
   "execution_count": null,
   "metadata": {},
   "outputs": [],
   "source": [
    "import pandas as pd"
   ]
  },
  {
   "cell_type": "code",
   "execution_count": null,
   "metadata": {},
   "outputs": [],
   "source": [
    "fig,axes = plt.subplots(1,len(params_to_plot), figsize=(12, 4))\n",
    "\n",
    "for index,param in enumerate(params_to_plot):\n",
    "    latex = '$' + latex_paramdict[param] + '$'\n",
    "    wth = 1\n",
    "    #sigmas = np.array([constraints_ab[param],constraints[param], oldconstraints[param]])\n",
    "    axes[index].bar(0, oldconstraints_so[param], width=wth, label='Planck + Abundances'\n",
    "                    , color='#2e7daa')\n",
    "    axes[index].bar(0, constraints_ab_so[param], width=wth, \n",
    "                    label='Planck + Abundances + Clustering with bias variance', color='#a80639')\n",
    "    axes[index].bar(0, constraints_so[param], width=wth, \n",
    "                    label='Planck + Abundances + Clustering', color='#f7d25b')\n",
    "    \n",
    "    axes[index].bar(1.5, oldconstraints_s4[param], width=wth \n",
    "                    , color='#2e7daa')\n",
    "    axes[index].bar(1.5, constraints_ab_s4[param], width=wth, \n",
    "                     color='#a80639')\n",
    "    axes[index].bar(1.5, constraints_s4[param], width=wth, \n",
    "                     color='#f7d25b')\n",
    "\n",
    "    axes[index].set_xlabel(latex)\n",
    "    #axes[index].xaxis.set_ticks_position('none') \n",
    "    axes[index].set_xticks((0,1.5))\n",
    "    axes[index].set_xticklabels(('SO', 'S4'))\n",
    "    axes[index].set_xlim(-(wth + wth/2)/2 , 1.5 +(wth + wth/2)/2)\n",
    "    axes[index].set_ylabel(r'$\\sigma_{'+latex_paramdict[param]+'}$')\n",
    "    axes[index].grid(False, axis='x')\n",
    "    \n",
    "handles, labels = axes[-1].get_legend_handles_labels()\n",
    "fig.legend(handles, labels, loc='lower center', bbox_to_anchor=(.5, 0.9))\n",
    "fig.tight_layout()\n",
    "#fig.savefig('barplot.eps', bbox_inches='tight')"
   ]
  },
  {
   "cell_type": "code",
   "execution_count": null,
   "metadata": {},
   "outputs": [],
   "source": [
    "import os,sys,inspect\n",
    "currentdir = os.path.dirname(os.path.abspath(inspect.getfile(inspect.currentframe())))\n",
    "parentdir = os.path.dirname(currentdir)\n",
    "sys.path.insert(0,parentdir+'/bin') \n",
    "from deeos_to_gamma import get_gamma_constraint"
   ]
  },
  {
   "cell_type": "code",
   "execution_count": null,
   "metadata": {},
   "outputs": [],
   "source": [
    "sigma_gamma_old = get_gamma_constraint(oldfisher, oldfisher.columns.values)\n",
    "sigma_gamma = get_gamma_constraint(fisher, fisher.columns.values)\n",
    "sigma_gamma_ab = get_gamma_constraint(fisher_ab, fisher_ab.columns.values)"
   ]
  },
  {
   "cell_type": "code",
   "execution_count": null,
   "metadata": {},
   "outputs": [],
   "source": [
    "wth = 1\n",
    "plt.bar(0, sigma_gamma_old, width=1, label='Pl+Ab'\n",
    "                    , color='#2e7daa')\n",
    "plt.bar(0, sigma_gamma_ab, width=wth, \n",
    "                label='Pl+Ab+Cl \\n w/ $a_\\mathrm{bias}$', color='#a80639')\n",
    "plt.bar(0, sigma_gamma, width=wth, \n",
    "                label='Pl+Ab+Cl', color='#f7d25b')\n",
    "plt.xlabel(r'$\\gamma$')\n",
    "plt.tick_params(\n",
    "    axis='x',          # changes apply to the x-axis\n",
    "    which='both',      # both major and minor ticks are affected\n",
    "    bottom=False,      # ticks along the bottom edge are off\n",
    "    top=False,         # ticks along the top edge are off\n",
    "    labelbottom=False) # labels along the bottom edge are off\n",
    "plt.xlim(-(wth + wth/2)/2 , (wth + wth/2)/2)\n",
    "plt.ylabel(r'$\\sigma_{\\gamma}$')\n",
    "plt.legend(loc='center left', bbox_to_anchor=(1, 0.2))\n",
    "fig = plt.gcf()\n",
    "fig.set_size_inches(13/7 + 1.8,4)\n",
    "fig.tight_layout()\n",
    "#fig.savefig('gamma_barplot.svg', bbox_inches='tight')"
   ]
  },
  {
   "cell_type": "code",
   "execution_count": null,
   "metadata": {},
   "outputs": [],
   "source": [
    "from orphics.io import dict_from_section,list_from_config\n",
    "Config = ConfigParser()\n",
    "Config.optionxform=str\n",
    "Config.read(INI)\n",
    "clttfile = Config.get('general','clttfile')\n",
    "constDict = dict_from_section(Config,'constants')\n",
    "\n",
    "fparams = {}\n",
    "for (key, val) in Config.items('params'):\n",
    "    if ',' in val:\n",
    "        param, step = val.split(',')\n",
    "        fparams[key] = float(param)\n",
    "    else:\n",
    "        fparams[key] = float(val)"
   ]
  },
  {
   "cell_type": "code",
   "execution_count": null,
   "metadata": {},
   "outputs": [],
   "source": [
    "latex_dict_to_plot={}\n",
    "for ind,key in enumerate(params_to_plot):\n",
    "    latex_dict_to_plot[key] = latex_to_plot[ind]"
   ]
  },
  {
   "cell_type": "code",
   "execution_count": null,
   "metadata": {},
   "outputs": [],
   "source": [
    "from orphics.stats import corner_plot"
   ]
  },
  {
   "cell_type": "code",
   "execution_count": null,
   "metadata": {},
   "outputs": [],
   "source": [
    "fishers_to_plot = [oldfisher_so, oldfisher_s4]\n",
    "labels = ['Pl+Ab SO', 'Pl+Ab S4']#['Pl+Ab SO', r'Pl+Ab+Cl w/$a_{bias} SO$', 'Pl+Ab+Cl SO', \n",
    "          #'Pl+Ab S4', r'Pl+Ab+Cl w/$a_{bias}$ S4', 'Pl+Ab+Cl S4']\n",
    "colors = ['#2e7daa','#a80639'] #,'#f7d25b', '#a385e5','#d3964c','#44c95f']\n",
    "corner_plot(fishers_to_plot, labels, colors=colors, fid_dict=fparams, params=params_to_plot,\n",
    "            show_1d=False, loc='upper right', latex_dict=latex_dict_to_plot, thk=3,\n",
    "            labelsize=22, rotate_xlabels=True, xpad=30, save_file='paper_cornerplot_so.pdf',\n",
    "            fileformat='pdf')"
   ]
  },
  {
   "cell_type": "code",
   "execution_count": null,
   "metadata": {},
   "outputs": [],
   "source": []
  }
 ],
 "metadata": {
  "kernelspec": {
   "display_name": "Python 3",
   "language": "python",
   "name": "python3"
  },
  "language_info": {
   "codemirror_mode": {
    "name": "ipython",
    "version": 3
   },
   "file_extension": ".py",
   "mimetype": "text/x-python",
   "name": "python",
   "nbconvert_exporter": "python",
   "pygments_lexer": "ipython3",
   "version": "3.7.2"
  }
 },
 "nbformat": 4,
 "nbformat_minor": 2
}
